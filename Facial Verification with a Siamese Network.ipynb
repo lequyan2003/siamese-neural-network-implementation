{
 "cells": [
  {
   "cell_type": "markdown",
   "id": "d8561328",
   "metadata": {},
   "source": [
    "# 1. Setup"
   ]
  },
  {
   "cell_type": "markdown",
   "id": "01be894e",
   "metadata": {},
   "source": [
    "## 1.1. Install Dependencies"
   ]
  },
  {
   "cell_type": "code",
   "execution_count": 1,
   "id": "ae826af9",
   "metadata": {},
   "outputs": [],
   "source": [
    "# Install tensorflow link for reference: https://www.tensorflow.org/install/pip\n",
    "\n",
    "# Create the virtual environment\n",
    "# conda create --name Name python=3.9\n",
    "\n",
    "# Activate the virtual environment\n",
    "# conda activate Name\n",
    "\n",
    "# Install CUDA and cuDNN\n",
    "# conda install -c conda-forge cudatoolkit=11.2 cudnn=8.1.0\n",
    "# pip install --upgrade pip\n",
    "\n",
    "# Install packages from requirements.txt\n",
    "# pip install -r requirements.txt\n",
    "\n",
    "# Check for GPU devices\n",
    "# python -c \"import tensorflow as tf; print(tf.config.list_physical_devices('GPU'))\""
   ]
  },
  {
   "cell_type": "markdown",
   "id": "a23354ad",
   "metadata": {},
   "source": [
    "## 1.2. Import Dependencies"
   ]
  },
  {
   "cell_type": "code",
   "execution_count": 2,
   "id": "2d14ea64",
   "metadata": {},
   "outputs": [],
   "source": [
    "# Import standard dependencies\n",
    "import cv2\n",
    "import os\n",
    "import random\n",
    "import numpy as np\n",
    "from matplotlib import pyplot as plt"
   ]
  },
  {
   "cell_type": "code",
   "execution_count": 3,
   "id": "b36f7979",
   "metadata": {},
   "outputs": [],
   "source": [
    "# Import tensorflow dependencies - Functional API\n",
    "from tensorflow.keras.models import Model\n",
    "from tensorflow.keras.layers import Layer, Conv2D, MaxPooling2D, Dense, Flatten, Input\n",
    "import tensorflow as tf"
   ]
  },
  {
   "cell_type": "markdown",
   "id": "02ab8830",
   "metadata": {},
   "source": [
    "## 1.3. Set GPU Growth"
   ]
  },
  {
   "cell_type": "code",
   "execution_count": 4,
   "id": "865bea9a",
   "metadata": {},
   "outputs": [
    {
     "name": "stdout",
     "output_type": "stream",
     "text": [
      "[PhysicalDevice(name='/physical_device:GPU:0', device_type='GPU')]\n"
     ]
    }
   ],
   "source": [
    "!python -c \"import tensorflow as tf; print(tf.config.list_physical_devices('GPU'))\""
   ]
  },
  {
   "cell_type": "code",
   "execution_count": 5,
   "id": "f340da6c",
   "metadata": {},
   "outputs": [
    {
     "name": "stdout",
     "output_type": "stream",
     "text": [
      "GPUs available:\n",
      "name: \"/device:GPU:0\"\n",
      "device_type: \"GPU\"\n",
      "memory_limit: 5729419264\n",
      "locality {\n",
      "  bus_id: 1\n",
      "  links {\n",
      "  }\n",
      "}\n",
      "incarnation: 17067686396336157295\n",
      "physical_device_desc: \"device: 0, name: NVIDIA GeForce RTX 3070, pci bus id: 0000:10:00.0, compute capability: 8.6\"\n",
      "xla_global_id: 416903419\n",
      "\n"
     ]
    }
   ],
   "source": [
    "import tensorflow as tf\n",
    "\n",
    "# Initialize a session to list devices\n",
    "from tensorflow.python.client import device_lib\n",
    "devices = device_lib.list_local_devices()\n",
    "\n",
    "# Filter out GPU devices and print them\n",
    "gpus = [device for device in devices if device.device_type == 'GPU']\n",
    "if gpus:\n",
    "    print(\"GPUs available:\")\n",
    "    for gpu in gpus:\n",
    "        print(gpu)\n",
    "else:\n",
    "    print(\"No GPUs available.\")"
   ]
  },
  {
   "cell_type": "code",
   "execution_count": 6,
   "id": "154ea762",
   "metadata": {},
   "outputs": [],
   "source": [
    "# Avoid Out Of Memory (OOM) errors by setting GPU Memory Consumption Growth\n",
    "gpus = tf.config.list_physical_devices('GPU')\n",
    "for gpu in gpus: \n",
    "    tf.config.experimental.set_memory_growth(gpu, True)"
   ]
  },
  {
   "cell_type": "code",
   "execution_count": 7,
   "id": "158b27cc",
   "metadata": {},
   "outputs": [
    {
     "data": {
      "text/plain": [
       "1"
      ]
     },
     "execution_count": 7,
     "metadata": {},
     "output_type": "execute_result"
    }
   ],
   "source": [
    "len(gpus)"
   ]
  },
  {
   "cell_type": "code",
   "execution_count": 8,
   "id": "524c93fc",
   "metadata": {},
   "outputs": [
    {
     "data": {
      "text/plain": [
       "[PhysicalDevice(name='/physical_device:GPU:0', device_type='GPU')]"
      ]
     },
     "execution_count": 8,
     "metadata": {},
     "output_type": "execute_result"
    }
   ],
   "source": [
    "gpus"
   ]
  },
  {
   "cell_type": "markdown",
   "id": "76558fff",
   "metadata": {},
   "source": [
    "## 1.4. Create Folder Structure"
   ]
  },
  {
   "cell_type": "code",
   "execution_count": 9,
   "id": "9386750f",
   "metadata": {},
   "outputs": [],
   "source": [
    "# Setup paths\n",
    "POS_PATH = os.path.join('data', 'positive')\n",
    "NEG_PATH = os.path.join('data', 'negative')\n",
    "ANC_PATH = os.path.join('data', 'anchor')"
   ]
  },
  {
   "cell_type": "code",
   "execution_count": 10,
   "id": "fd7abfc9",
   "metadata": {},
   "outputs": [
    {
     "data": {
      "text/plain": [
       "'data\\\\positive'"
      ]
     },
     "execution_count": 10,
     "metadata": {},
     "output_type": "execute_result"
    }
   ],
   "source": [
    "POS_PATH"
   ]
  },
  {
   "cell_type": "code",
   "execution_count": 11,
   "id": "c82820ff",
   "metadata": {},
   "outputs": [
    {
     "ename": "FileExistsError",
     "evalue": "[WinError 183] Cannot create a file when that file already exists: 'data\\\\positive'",
     "output_type": "error",
     "traceback": [
      "\u001b[1;31m---------------------------------------------------------------------------\u001b[0m",
      "\u001b[1;31mFileExistsError\u001b[0m                           Traceback (most recent call last)",
      "Cell \u001b[1;32mIn[11], line 1\u001b[0m\n\u001b[1;32m----> 1\u001b[0m \u001b[43mos\u001b[49m\u001b[38;5;241;43m.\u001b[39;49m\u001b[43mmakedirs\u001b[49m\u001b[43m(\u001b[49m\u001b[43mPOS_PATH\u001b[49m\u001b[43m)\u001b[49m\n\u001b[0;32m      2\u001b[0m os\u001b[38;5;241m.\u001b[39mmakedirs(NEG_PATH)\n\u001b[0;32m      3\u001b[0m os\u001b[38;5;241m.\u001b[39mmakedirs(ANC_PATH)\n",
      "File \u001b[1;32m~\\anaconda3\\envs\\ComputerVision\\lib\\os.py:225\u001b[0m, in \u001b[0;36mmakedirs\u001b[1;34m(name, mode, exist_ok)\u001b[0m\n\u001b[0;32m    223\u001b[0m         \u001b[38;5;28;01mreturn\u001b[39;00m\n\u001b[0;32m    224\u001b[0m \u001b[38;5;28;01mtry\u001b[39;00m:\n\u001b[1;32m--> 225\u001b[0m     \u001b[43mmkdir\u001b[49m\u001b[43m(\u001b[49m\u001b[43mname\u001b[49m\u001b[43m,\u001b[49m\u001b[43m \u001b[49m\u001b[43mmode\u001b[49m\u001b[43m)\u001b[49m\n\u001b[0;32m    226\u001b[0m \u001b[38;5;28;01mexcept\u001b[39;00m \u001b[38;5;167;01mOSError\u001b[39;00m:\n\u001b[0;32m    227\u001b[0m     \u001b[38;5;66;03m# Cannot rely on checking for EEXIST, since the operating system\u001b[39;00m\n\u001b[0;32m    228\u001b[0m     \u001b[38;5;66;03m# could give priority to other errors like EACCES or EROFS\u001b[39;00m\n\u001b[0;32m    229\u001b[0m     \u001b[38;5;28;01mif\u001b[39;00m \u001b[38;5;129;01mnot\u001b[39;00m exist_ok \u001b[38;5;129;01mor\u001b[39;00m \u001b[38;5;129;01mnot\u001b[39;00m path\u001b[38;5;241m.\u001b[39misdir(name):\n",
      "\u001b[1;31mFileExistsError\u001b[0m: [WinError 183] Cannot create a file when that file already exists: 'data\\\\positive'"
     ]
    }
   ],
   "source": [
    "os.makedirs(POS_PATH)\n",
    "os.makedirs(NEG_PATH)\n",
    "os.makedirs(ANC_PATH)"
   ]
  },
  {
   "cell_type": "markdown",
   "id": "3dbd2330",
   "metadata": {},
   "source": [
    "# 2. Collect Positives and Anchors"
   ]
  },
  {
   "cell_type": "markdown",
   "id": "d7023b6a",
   "metadata": {},
   "source": [
    "## 2.1. Untar Labelled Faces in the Wild Dataset"
   ]
  },
  {
   "cell_type": "code",
   "execution_count": null,
   "id": "5531aedb",
   "metadata": {},
   "outputs": [],
   "source": [
    "# http://vis-www.cs.umass.edu/lfw\n",
    "# Access website above to download `All images as gzipped tar file`\n",
    "# Place file `lfw.tgz` in the working directory"
   ]
  },
  {
   "cell_type": "code",
   "execution_count": null,
   "id": "b3986498",
   "metadata": {},
   "outputs": [],
   "source": [
    "# Uncompress Tar GZ Labelled Faces in the Wild Dataset\n",
    "!tar -xf lfw.tgz"
   ]
  },
  {
   "cell_type": "code",
   "execution_count": 12,
   "id": "619b1209",
   "metadata": {},
   "outputs": [],
   "source": [
    "# Move LFW Images to the following repository data/negative\n",
    "for directory in os.listdir('lfw'):\n",
    "    for file in os.listdir(os.path.join('lfw', directory)):\n",
    "        EX_PATH = os.path.join('lfw', directory, file)\n",
    "        NEW_PATH = os.path.join(NEG_PATH, file)\n",
    "        os.replace(EX_PATH, NEW_PATH)"
   ]
  },
  {
   "cell_type": "markdown",
   "id": "b37bd698",
   "metadata": {},
   "source": [
    "## 2.2. Collecte Positive and Anchor Classes"
   ]
  },
  {
   "cell_type": "code",
   "execution_count": 13,
   "id": "fd963e37",
   "metadata": {},
   "outputs": [],
   "source": [
    "# Import uuid library to generate unique image names\n",
    "import uuid"
   ]
  },
  {
   "cell_type": "code",
   "execution_count": null,
   "id": "babc023e",
   "metadata": {},
   "outputs": [],
   "source": [
    "# Establish a connection to webcam\n",
    "cap = cv2.VideoCapture(0)\n",
    "while cap.isOpened():\n",
    "    ret, frame = cap.read()\n",
    "\n",
    "    # Cut down frame to 250 x 250 px\n",
    "    frame = frame[120:120+250, 200:200+250, :]\n",
    "\n",
    "    # Collect anchors\n",
    "    if cv2.waitKey(1) & 0xFF == ord('a'):\n",
    "        # Create unique file path\n",
    "        imgname = os.path.join(ANC_PATH, '{}.jpg'.format(uuid.uuid1()))\n",
    "        # Write out anchor image\n",
    "        cv2.imwrite(imgname, frame)\n",
    "\n",
    "    # Collect positives\n",
    "    if cv2.waitKey(1) & 0xFF == ord('p'):\n",
    "        # Create unique file path\n",
    "        imgname = os.path.join(POS_PATH, '{}.jpg'.format(uuid.uuid1()))\n",
    "        # Write out positive image\n",
    "        cv2.imwrite(imgname, frame)\n",
    "\n",
    "    # Show image back to screen\n",
    "    cv2.imshow('Image Collection', frame)\n",
    "\n",
    "    if cv2.waitKey(1) & 0xFF == ord('q'):\n",
    "        break\n",
    "\n",
    "# Release webcam\n",
    "cap.release()\n",
    "# Close image show frame\n",
    "cv2.destroyAllWindows()"
   ]
  },
  {
   "cell_type": "code",
   "execution_count": null,
   "id": "6b2d9707",
   "metadata": {},
   "outputs": [],
   "source": [
    "plt.imshow(frame)"
   ]
  },
  {
   "cell_type": "markdown",
   "id": "78e64177",
   "metadata": {},
   "source": [
    "# 3. Load and Preprocess Images"
   ]
  },
  {
   "cell_type": "markdown",
   "id": "e4639d55",
   "metadata": {},
   "source": [
    "## 3.1. Get Image Directories"
   ]
  },
  {
   "cell_type": "code",
   "execution_count": 14,
   "id": "bc9c7b8a",
   "metadata": {},
   "outputs": [],
   "source": [
    "anchor = tf.data.Dataset.list_files(ANC_PATH + '\\*.jpg').take(300)\n",
    "positive = tf.data.Dataset.list_files(POS_PATH + '\\*.jpg').take(300)\n",
    "negative = tf.data.Dataset.list_files(NEG_PATH + '\\*.jpg').take(300)"
   ]
  },
  {
   "cell_type": "code",
   "execution_count": 15,
   "id": "1de659ff",
   "metadata": {},
   "outputs": [],
   "source": [
    "dir_test = anchor.as_numpy_iterator()"
   ]
  },
  {
   "cell_type": "code",
   "execution_count": 16,
   "id": "31a9e718",
   "metadata": {},
   "outputs": [
    {
     "data": {
      "text/plain": [
       "b'data\\\\anchor\\\\d07cfd56-1c6c-11ef-836a-845cf3d6a57d.jpg'"
      ]
     },
     "execution_count": 16,
     "metadata": {},
     "output_type": "execute_result"
    }
   ],
   "source": [
    "dir_test.next()"
   ]
  },
  {
   "cell_type": "markdown",
   "id": "7725cf4f",
   "metadata": {},
   "source": [
    "## 3.2.Preprocessing - Scale and Resize"
   ]
  },
  {
   "cell_type": "code",
   "execution_count": 17,
   "id": "e1ea7754",
   "metadata": {},
   "outputs": [],
   "source": [
    "def preprocess(file_path):\n",
    "    # Read in image from file path\n",
    "    byte_img = tf.io.read_file(file_path)\n",
    "    # Load in image\n",
    "    img = tf.io.decode_jpeg(byte_img)\n",
    "    # Preprocessing steps - resizing image to be 100x100x3\n",
    "    img = tf.image.resize(img, (100, 100))\n",
    "    # Scale image to be between 0 and 1\n",
    "    img = img / 255.0\n",
    "    return img"
   ]
  },
  {
   "cell_type": "code",
   "execution_count": 18,
   "id": "f9a7728d",
   "metadata": {},
   "outputs": [
    {
     "data": {
      "text/plain": [
       "<tf.Tensor: shape=(100, 100, 3), dtype=float32, numpy=\n",
       "array([[[0.7414216 , 0.7610294 , 0.74534315],\n",
       "        [0.7372549 , 0.75686276, 0.7411765 ],\n",
       "        [0.7355392 , 0.75514704, 0.73946077],\n",
       "        ...,\n",
       "        [0.6894608 , 0.69730395, 0.6855392 ],\n",
       "        [0.68235296, 0.6901961 , 0.6784314 ],\n",
       "        [0.67156863, 0.67941177, 0.6598039 ]],\n",
       "\n",
       "       [[0.7372549 , 0.7558824 , 0.74313724],\n",
       "        [0.73333335, 0.7522059 , 0.7387255 ],\n",
       "        [0.7355392 , 0.75514704, 0.73946077],\n",
       "        ...,\n",
       "        [0.68602943, 0.6938726 , 0.68210787],\n",
       "        [0.68235296, 0.6901961 , 0.6784314 ],\n",
       "        [0.672549  , 0.68039215, 0.66862744]],\n",
       "\n",
       "       [[0.7372549 , 0.7529412 , 0.7490196 ],\n",
       "        [0.73259807, 0.74852943, 0.7438725 ],\n",
       "        [0.73039216, 0.7492647 , 0.7357843 ],\n",
       "        ...,\n",
       "        [0.68235296, 0.6901961 , 0.6784314 ],\n",
       "        [0.68235296, 0.6901961 , 0.6784314 ],\n",
       "        [0.6784314 , 0.6862745 , 0.68039215]],\n",
       "\n",
       "       ...,\n",
       "\n",
       "       [[0.31862745, 0.30686274, 0.3735294 ],\n",
       "        [0.32843137, 0.3127451 , 0.37745097],\n",
       "        [0.33308825, 0.31740198, 0.37769607],\n",
       "        ...,\n",
       "        [0.1860294 , 0.17622548, 0.23357843],\n",
       "        [0.19607843, 0.18039216, 0.24509804],\n",
       "        [0.19387256, 0.18308823, 0.24681373]],\n",
       "\n",
       "       [[0.31323528, 0.29852942, 0.35931373],\n",
       "        [0.32328433, 0.30759802, 0.36642158],\n",
       "        [0.33406863, 0.31838235, 0.37720588],\n",
       "        ...,\n",
       "        [0.19779412, 0.18137255, 0.24607843],\n",
       "        [0.2007353 , 0.18284313, 0.24387255],\n",
       "        [0.20808823, 0.2009804 , 0.25588235]],\n",
       "\n",
       "       [[0.2990196 , 0.28333333, 0.35      ],\n",
       "        [0.29117647, 0.2754902 , 0.34019607],\n",
       "        [0.3019608 , 0.28627452, 0.34509805],\n",
       "        ...,\n",
       "        [0.1860294 , 0.16740195, 0.23308824],\n",
       "        [0.19632353, 0.17769608, 0.2375    ],\n",
       "        [0.21372549, 0.20686275, 0.2617647 ]]], dtype=float32)>"
      ]
     },
     "execution_count": 18,
     "metadata": {},
     "output_type": "execute_result"
    }
   ],
   "source": [
    "preprocess('data\\\\anchor\\\\d04f55a0-1c6c-11ef-95b1-845cf3d6a57d.jpg')"
   ]
  },
  {
   "cell_type": "code",
   "execution_count": 19,
   "id": "d42e250b",
   "metadata": {},
   "outputs": [],
   "source": [
    "img = preprocess('data\\\\anchor\\\\d04f55a0-1c6c-11ef-95b1-845cf3d6a57d.jpg')"
   ]
  },
  {
   "cell_type": "code",
   "execution_count": 20,
   "id": "efdd1288",
   "metadata": {},
   "outputs": [
    {
     "data": {
      "text/plain": [
       "0.8068628"
      ]
     },
     "execution_count": 20,
     "metadata": {},
     "output_type": "execute_result"
    }
   ],
   "source": [
    "img.numpy().max()"
   ]
  },
  {
   "cell_type": "code",
   "execution_count": 21,
   "id": "e615702b",
   "metadata": {},
   "outputs": [
    {
     "data": {
      "text/plain": [
       "<matplotlib.image.AxesImage at 0x24e5bf2b550>"
      ]
     },
     "execution_count": 21,
     "metadata": {},
     "output_type": "execute_result"
    },
    {
     "data": {
      "image/png": "[encoded data removed]",
      "text/plain": [
       "<Figure size 640x480 with 1 Axes>"
      ]
     },
     "metadata": {},
     "output_type": "display_data"
    }
   ],
   "source": [
    "plt.imshow(img)"
   ]
  },
  {
   "cell_type": "markdown",
   "id": "6c396356",
   "metadata": {},
   "source": [
    "## 3.3. Create Labelled Dataset"
   ]
  },
  {
   "cell_type": "code",
   "execution_count": 22,
   "id": "53753096",
   "metadata": {},
   "outputs": [],
   "source": [
    "# (anchor, positive) => 1,1,1,1,1\n",
    "# (anchor, negative) => 0,0,0,0,0"
   ]
  },
  {
   "cell_type": "code",
   "execution_count": 23,
   "id": "2283ab1f",
   "metadata": {},
   "outputs": [
    {
     "data": {
      "text/plain": [
       "<tf.Tensor: shape=(300,), dtype=float32, numpy=\n",
       "array([1., 1., 1., 1., 1., 1., 1., 1., 1., 1., 1., 1., 1., 1., 1., 1., 1.,\n",
       "       1., 1., 1., 1., 1., 1., 1., 1., 1., 1., 1., 1., 1., 1., 1., 1., 1.,\n",
       "       1., 1., 1., 1., 1., 1., 1., 1., 1., 1., 1., 1., 1., 1., 1., 1., 1.,\n",
       "       1., 1., 1., 1., 1., 1., 1., 1., 1., 1., 1., 1., 1., 1., 1., 1., 1.,\n",
       "       1., 1., 1., 1., 1., 1., 1., 1., 1., 1., 1., 1., 1., 1., 1., 1., 1.,\n",
       "       1., 1., 1., 1., 1., 1., 1., 1., 1., 1., 1., 1., 1., 1., 1., 1., 1.,\n",
       "       1., 1., 1., 1., 1., 1., 1., 1., 1., 1., 1., 1., 1., 1., 1., 1., 1.,\n",
       "       1., 1., 1., 1., 1., 1., 1., 1., 1., 1., 1., 1., 1., 1., 1., 1., 1.,\n",
       "       1., 1., 1., 1., 1., 1., 1., 1., 1., 1., 1., 1., 1., 1., 1., 1., 1.,\n",
       "       1., 1., 1., 1., 1., 1., 1., 1., 1., 1., 1., 1., 1., 1., 1., 1., 1.,\n",
       "       1., 1., 1., 1., 1., 1., 1., 1., 1., 1., 1., 1., 1., 1., 1., 1., 1.,\n",
       "       1., 1., 1., 1., 1., 1., 1., 1., 1., 1., 1., 1., 1., 1., 1., 1., 1.,\n",
       "       1., 1., 1., 1., 1., 1., 1., 1., 1., 1., 1., 1., 1., 1., 1., 1., 1.,\n",
       "       1., 1., 1., 1., 1., 1., 1., 1., 1., 1., 1., 1., 1., 1., 1., 1., 1.,\n",
       "       1., 1., 1., 1., 1., 1., 1., 1., 1., 1., 1., 1., 1., 1., 1., 1., 1.,\n",
       "       1., 1., 1., 1., 1., 1., 1., 1., 1., 1., 1., 1., 1., 1., 1., 1., 1.,\n",
       "       1., 1., 1., 1., 1., 1., 1., 1., 1., 1., 1., 1., 1., 1., 1., 1., 1.,\n",
       "       1., 1., 1., 1., 1., 1., 1., 1., 1., 1., 1.], dtype=float32)>"
      ]
     },
     "execution_count": 23,
     "metadata": {},
     "output_type": "execute_result"
    }
   ],
   "source": [
    "tf.ones(len(anchor))"
   ]
  },
  {
   "cell_type": "code",
   "execution_count": 24,
   "id": "e6b4ea70",
   "metadata": {},
   "outputs": [],
   "source": [
    "positives = tf.data.Dataset.zip((anchor, positive, tf.data.Dataset.from_tensor_slices(tf.ones(len(anchor)))))\n",
    "negatives = tf.data.Dataset.zip((anchor, negative, tf.data.Dataset.from_tensor_slices(tf.zeros(len(anchor)))))\n",
    "data = positives.concatenate(negatives)"
   ]
  },
  {
   "cell_type": "code",
   "execution_count": 25,
   "id": "aa18a29a",
   "metadata": {},
   "outputs": [
    {
     "data": {
      "text/plain": [
       "<ConcatenateDataset element_spec=(TensorSpec(shape=(), dtype=tf.string, name=None), TensorSpec(shape=(), dtype=tf.string, name=None), TensorSpec(shape=(), dtype=tf.float32, name=None))>"
      ]
     },
     "execution_count": 25,
     "metadata": {},
     "output_type": "execute_result"
    }
   ],
   "source": [
    "data"
   ]
  },
  {
   "cell_type": "code",
   "execution_count": 26,
   "id": "bedc506c",
   "metadata": {},
   "outputs": [],
   "source": [
    "samples = data.as_numpy_iterator()"
   ]
  },
  {
   "cell_type": "code",
   "execution_count": 27,
   "id": "bad09f82",
   "metadata": {},
   "outputs": [
    {
     "data": {
      "text/plain": [
       "(b'data\\\\anchor\\\\d4e91d65-1c6c-11ef-912b-845cf3d6a57d.jpg',\n",
       " b'data\\\\positive\\\\21aba677-1c6d-11ef-af77-845cf3d6a57d.jpg',\n",
       " 1.0)"
      ]
     },
     "execution_count": 27,
     "metadata": {},
     "output_type": "execute_result"
    }
   ],
   "source": [
    "samples.next()"
   ]
  },
  {
   "cell_type": "markdown",
   "id": "e93a0f1b",
   "metadata": {},
   "source": [
    "## 3.4. Build Train and Test Set"
   ]
  },
  {
   "cell_type": "code",
   "execution_count": 28,
   "id": "bee9ec2d",
   "metadata": {},
   "outputs": [],
   "source": [
    "def preprocess_twin(input_img, validation_img, label):\n",
    "    return (preprocess(input_img), preprocess(validation_img), label)"
   ]
  },
  {
   "cell_type": "code",
   "execution_count": 29,
   "id": "cf359519",
   "metadata": {},
   "outputs": [],
   "source": [
    "example = samples.next()"
   ]
  },
  {
   "cell_type": "code",
   "execution_count": 30,
   "id": "791165e9",
   "metadata": {},
   "outputs": [
    {
     "data": {
      "text/plain": [
       "(b'data\\\\anchor\\\\ced6a48a-1c6c-11ef-8994-845cf3d6a57d.jpg',\n",
       " b'data\\\\positive\\\\fcf560a6-1c6c-11ef-8988-845cf3d6a57d.jpg',\n",
       " 1.0)"
      ]
     },
     "execution_count": 30,
     "metadata": {},
     "output_type": "execute_result"
    }
   ],
   "source": [
    "example"
   ]
  },
  {
   "cell_type": "code",
   "execution_count": 31,
   "id": "4eb683b6",
   "metadata": {},
   "outputs": [],
   "source": [
    "res = preprocess_twin(*example)"
   ]
  },
  {
   "cell_type": "code",
   "execution_count": 32,
   "id": "077ba38f",
   "metadata": {},
   "outputs": [
    {
     "data": {
      "text/plain": [
       "(<tf.Tensor: shape=(100, 100, 3), dtype=float32, numpy=\n",
       " array([[[0.7411765 , 0.7490196 , 0.74509805],\n",
       "         [0.7411765 , 0.7490196 , 0.74313724],\n",
       "         [0.7411765 , 0.7490196 , 0.7372549 ],\n",
       "         ...,\n",
       "         [0.6764706 , 0.6901961 , 0.6877451 ],\n",
       "         [0.68235296, 0.6901961 , 0.6862745 ],\n",
       "         [0.6784314 , 0.6862745 , 0.6745098 ]],\n",
       " \n",
       "        [[0.74583334, 0.7526961 , 0.75171566],\n",
       "         [0.7441176 , 0.7519608 , 0.7480392 ],\n",
       "         [0.74485296, 0.7526961 , 0.7443628 ],\n",
       "         ...,\n",
       "         [0.6742647 , 0.6938726 , 0.6762255 ],\n",
       "         [0.67941177, 0.6901961 , 0.6754902 ],\n",
       "         [0.68235296, 0.6901961 , 0.67058825]],\n",
       " \n",
       "        [[0.74215686, 0.74607843, 0.75392157],\n",
       "         [0.7372549 , 0.74289215, 0.74558824],\n",
       "         [0.74019605, 0.7480392 , 0.7441176 ],\n",
       "         ...,\n",
       "         [0.6742647 , 0.6938726 , 0.67034316],\n",
       "         [0.6720588 , 0.6894608 , 0.6666667 ],\n",
       "         [0.6754902 , 0.68333334, 0.6637255 ]],\n",
       " \n",
       "        ...,\n",
       " \n",
       "        [[0.31887254, 0.30318627, 0.36397058],\n",
       "         [0.32230392, 0.30661765, 0.36740196],\n",
       "         [0.31936276, 0.30367646, 0.3644608 ],\n",
       "         ...,\n",
       "         [0.1877451 , 0.20147058, 0.2495098 ],\n",
       "         [0.18333334, 0.18235295, 0.23627451],\n",
       "         [0.19117647, 0.1872549 , 0.24215686]],\n",
       " \n",
       "        [[0.30490196, 0.28921568, 0.35      ],\n",
       "         [0.30367646, 0.28799018, 0.3502451 ],\n",
       "         [0.30906862, 0.2867647 , 0.35563725],\n",
       "         ...,\n",
       "         [0.17352942, 0.18284313, 0.23088235],\n",
       "         [0.19828431, 0.19730392, 0.2512255 ],\n",
       "         [0.22279412, 0.21887255, 0.27965686]],\n",
       " \n",
       "        [[0.28137255, 0.26568627, 0.3245098 ],\n",
       "         [0.29093137, 0.2752451 , 0.3360294 ],\n",
       "         [0.29313725, 0.26862746, 0.3382353 ],\n",
       "         ...,\n",
       "         [0.18504901, 0.19289216, 0.24387255],\n",
       "         [0.19803922, 0.19705883, 0.2509804 ],\n",
       "         [0.2254902 , 0.22156863, 0.28431374]]], dtype=float32)>,\n",
       " <tf.Tensor: shape=(100, 100, 3), dtype=float32, numpy=\n",
       " array([[[0.297549  , 0.297549  , 0.3367647 ],\n",
       "         [0.26593137, 0.26397058, 0.30416667],\n",
       "         [0.2375    , 0.22965686, 0.27279413],\n",
       "         ...,\n",
       "         [0.68333334, 0.6911765 , 0.67941177],\n",
       "         [0.68039215, 0.6882353 , 0.67058825],\n",
       "         [0.6784314 , 0.68235296, 0.6627451 ]],\n",
       " \n",
       "        [[0.24289216, 0.23700981, 0.26740196],\n",
       "         [0.22352941, 0.21691176, 0.25      ],\n",
       "         [0.19607843, 0.18504901, 0.2262255 ],\n",
       "         ...,\n",
       "         [0.6872549 , 0.69509804, 0.68333334],\n",
       "         [0.6840686 , 0.69191176, 0.6742647 ],\n",
       "         [0.6752451 , 0.68308824, 0.6634804 ]],\n",
       " \n",
       "        [[0.2127451 , 0.19509804, 0.21960784],\n",
       "         [0.19313726, 0.1754902 , 0.2       ],\n",
       "         [0.15686275, 0.1392157 , 0.16862746],\n",
       "         ...,\n",
       "         [0.6870098 , 0.69485295, 0.68308824],\n",
       "         [0.6862745 , 0.69411767, 0.6764706 ],\n",
       "         [0.6784314 , 0.6862745 , 0.6666667 ]],\n",
       " \n",
       "        ...,\n",
       " \n",
       "        [[0.3242647 , 0.30661765, 0.38406864],\n",
       "         [0.33137256, 0.31446078, 0.3877451 ],\n",
       "         [0.32254902, 0.30784315, 0.3745098 ],\n",
       "         ...,\n",
       "         [0.18235295, 0.1872549 , 0.24509804],\n",
       "         [0.19362745, 0.19191177, 0.25343138],\n",
       "         [0.1882353 , 0.18431373, 0.24705882]],\n",
       " \n",
       "        [[0.3345588 , 0.3227941 , 0.39142156],\n",
       "         [0.32034314, 0.30857843, 0.3752451 ],\n",
       "         [0.30171567, 0.28995097, 0.35661766],\n",
       "         ...,\n",
       "         [0.18651961, 0.18259804, 0.2375    ],\n",
       "         [0.18235295, 0.17843138, 0.23480392],\n",
       "         [0.18431373, 0.17745098, 0.23431373]],\n",
       " \n",
       "        [[0.33039215, 0.32647058, 0.38921568],\n",
       "         [0.32867646, 0.31691176, 0.38357842],\n",
       "         [0.31642157, 0.30465686, 0.37132353],\n",
       "         ...,\n",
       "         [0.19313726, 0.1882353 , 0.24313726],\n",
       "         [0.19215687, 0.18431373, 0.23921569],\n",
       "         [0.1882353 , 0.18039216, 0.23529412]]], dtype=float32)>,\n",
       " 1.0)"
      ]
     },
     "execution_count": 32,
     "metadata": {},
     "output_type": "execute_result"
    }
   ],
   "source": [
    "res"
   ]
  },
  {
   "cell_type": "code",
   "execution_count": 33,
   "id": "a1fe6fdc",
   "metadata": {},
   "outputs": [
    {
     "data": {
      "text/plain": [
       "<matplotlib.image.AxesImage at 0x24e568b7760>"
      ]
     },
     "execution_count": 33,
     "metadata": {},
     "output_type": "execute_result"
    },
    {
     "data": {
      "image/png": "[encoded data removed]",
      "text/plain": [
       "<Figure size 640x480 with 1 Axes>"
      ]
     },
     "metadata": {},
     "output_type": "display_data"
    }
   ],
   "source": [
    "plt.imshow(res[0])"
   ]
  },
  {
   "cell_type": "code",
   "execution_count": 34,
   "id": "27f60381",
   "metadata": {},
   "outputs": [
    {
     "data": {
      "text/plain": [
       "<matplotlib.image.AxesImage at 0x24e56927340>"
      ]
     },
     "execution_count": 34,
     "metadata": {},
     "output_type": "execute_result"
    },
    {
     "data": {
      "image/png": "[encoded data removed]",
      "text/plain": [
       "<Figure size 640x480 with 1 Axes>"
      ]
     },
     "metadata": {},
     "output_type": "display_data"
    }
   ],
   "source": [
    "plt.imshow(res[1])"
   ]
  },
  {
   "cell_type": "code",
   "execution_count": 35,
   "id": "31fa919b",
   "metadata": {},
   "outputs": [
    {
     "data": {
      "text/plain": [
       "1.0"
      ]
     },
     "execution_count": 35,
     "metadata": {},
     "output_type": "execute_result"
    }
   ],
   "source": [
    "res[2]"
   ]
  },
  {
   "cell_type": "code",
   "execution_count": 36,
   "id": "5d0ff019",
   "metadata": {},
   "outputs": [],
   "source": [
    "# Build dataloader pipeline\n",
    "data = data.map(preprocess_twin)\n",
    "data = data.cache()\n",
    "data = data.shuffle(buffer_size=1024)"
   ]
  },
  {
   "cell_type": "code",
   "execution_count": 37,
   "id": "88468b2c",
   "metadata": {},
   "outputs": [
    {
     "data": {
      "text/plain": [
       "<ShuffleDataset element_spec=(TensorSpec(shape=(100, 100, None), dtype=tf.float32, name=None), TensorSpec(shape=(100, 100, None), dtype=tf.float32, name=None), TensorSpec(shape=(), dtype=tf.float32, name=None))>"
      ]
     },
     "execution_count": 37,
     "metadata": {},
     "output_type": "execute_result"
    }
   ],
   "source": [
    "data"
   ]
  },
  {
   "cell_type": "code",
   "execution_count": 38,
   "id": "80222322",
   "metadata": {},
   "outputs": [],
   "source": [
    "samples = data.as_numpy_iterator()"
   ]
  },
  {
   "cell_type": "code",
   "execution_count": 39,
   "id": "d6a96e5f",
   "metadata": {},
   "outputs": [],
   "source": [
    "sample = samples.next()"
   ]
  },
  {
   "cell_type": "code",
   "execution_count": 40,
   "id": "8653c023",
   "metadata": {},
   "outputs": [
    {
     "data": {
      "text/plain": [
       "<matplotlib.image.AxesImage at 0x24e569ce520>"
      ]
     },
     "execution_count": 40,
     "metadata": {},
     "output_type": "execute_result"
    },
    {
     "data": {
      "image/png": "[encoded data removed]",
      "text/plain": [
       "<Figure size 640x480 with 1 Axes>"
      ]
     },
     "metadata": {},
     "output_type": "display_data"
    }
   ],
   "source": [
    "plt.imshow(sample[0])"
   ]
  },
  {
   "cell_type": "code",
   "execution_count": 41,
   "id": "35bc3d0b",
   "metadata": {},
   "outputs": [
    {
     "data": {
      "text/plain": [
       "<matplotlib.image.AxesImage at 0x24e7b69f520>"
      ]
     },
     "execution_count": 41,
     "metadata": {},
     "output_type": "execute_result"
    },
    {
     "data": {
      "image/png": "[encoded data removed]",
      "text/plain": [
       "<Figure size 640x480 with 1 Axes>"
      ]
     },
     "metadata": {},
     "output_type": "display_data"
    }
   ],
   "source": [
    "plt.imshow(sample[1])"
   ]
  },
  {
   "cell_type": "code",
   "execution_count": 42,
   "id": "984c5ef7",
   "metadata": {},
   "outputs": [
    {
     "data": {
      "text/plain": [
       "0.0"
      ]
     },
     "execution_count": 42,
     "metadata": {},
     "output_type": "execute_result"
    }
   ],
   "source": [
    "sample[2]"
   ]
  },
  {
   "cell_type": "code",
   "execution_count": 43,
   "id": "a97021c3",
   "metadata": {},
   "outputs": [],
   "source": [
    "# Training set\n",
    "train_data = data.take(round(len(data) * .7))\n",
    "train_data = train_data.batch(16)\n",
    "train_data = train_data.prefetch(8)"
   ]
  },
  {
   "cell_type": "code",
   "execution_count": 44,
   "id": "f352df05",
   "metadata": {},
   "outputs": [],
   "source": [
    "# Testing set\n",
    "test_data = data.skip(round(len(data) * .7))\n",
    "test_data = test_data.take(round(len(data) * .3))\n",
    "test_data = test_data.batch(16)\n",
    "test_data = test_data.prefetch(8)"
   ]
  },
  {
   "cell_type": "markdown",
   "id": "f7e8beb6",
   "metadata": {},
   "source": [
    "# 4. Model Engineering"
   ]
  },
  {
   "cell_type": "markdown",
   "id": "5a4a764c",
   "metadata": {},
   "source": [
    "## 4.1. Build Embedding Layer"
   ]
  },
  {
   "cell_type": "code",
   "execution_count": 45,
   "id": "412bd7fb",
   "metadata": {},
   "outputs": [],
   "source": [
    "inp = Input(shape=(100,100,3), name='input_image')"
   ]
  },
  {
   "cell_type": "code",
   "execution_count": 46,
   "id": "0fc3d7ed",
   "metadata": {},
   "outputs": [
    {
     "data": {
      "text/plain": [
       "<KerasTensor: shape=(None, 100, 100, 3) dtype=float32 (created by layer 'input_image')>"
      ]
     },
     "execution_count": 46,
     "metadata": {},
     "output_type": "execute_result"
    }
   ],
   "source": [
    "inp # None refer to batch size"
   ]
  },
  {
   "cell_type": "code",
   "execution_count": 47,
   "id": "e450a31d",
   "metadata": {},
   "outputs": [],
   "source": [
    "c1 = Conv2D(64, (10,10), activation='relu')(inp)\n",
    "m1 = MaxPooling2D(64, (2,2), padding='same')(c1)"
   ]
  },
  {
   "cell_type": "code",
   "execution_count": 48,
   "id": "5b8b62bc",
   "metadata": {},
   "outputs": [],
   "source": [
    "c2 = Conv2D(128, (7,7), activation='relu')(m1)\n",
    "m2 = MaxPooling2D(64, (2,2), padding='same')(c2)"
   ]
  },
  {
   "cell_type": "code",
   "execution_count": 49,
   "id": "5b17afa2",
   "metadata": {},
   "outputs": [],
   "source": [
    "c3 = Conv2D(128, (4,4), activation='relu')(m2)\n",
    "m3 = MaxPooling2D(64, (2,2), padding='same')(c3)"
   ]
  },
  {
   "cell_type": "code",
   "execution_count": 50,
   "id": "4e4b9e7e",
   "metadata": {},
   "outputs": [],
   "source": [
    "c4 = Conv2D(256, (4,4), activation='relu')(m3)\n",
    "f1 = Flatten()(c4)\n",
    "d1 = Dense(4096, activation='sigmoid')(f1)"
   ]
  },
  {
   "cell_type": "code",
   "execution_count": 51,
   "id": "73dca02e",
   "metadata": {},
   "outputs": [
    {
     "data": {
      "text/plain": [
       "<KerasTensor: shape=(None, 6, 6, 256) dtype=float32 (created by layer 'conv2d_3')>"
      ]
     },
     "execution_count": 51,
     "metadata": {},
     "output_type": "execute_result"
    }
   ],
   "source": [
    "c4"
   ]
  },
  {
   "cell_type": "code",
   "execution_count": 52,
   "id": "df11dc44",
   "metadata": {},
   "outputs": [
    {
     "data": {
      "text/plain": [
       "9216"
      ]
     },
     "execution_count": 52,
     "metadata": {},
     "output_type": "execute_result"
    }
   ],
   "source": [
    "6*6*256"
   ]
  },
  {
   "cell_type": "code",
   "execution_count": 53,
   "id": "8edf1108",
   "metadata": {},
   "outputs": [
    {
     "data": {
      "text/plain": [
       "<KerasTensor: shape=(None, 9216) dtype=float32 (created by layer 'flatten')>"
      ]
     },
     "execution_count": 53,
     "metadata": {},
     "output_type": "execute_result"
    }
   ],
   "source": [
    "f1"
   ]
  },
  {
   "cell_type": "code",
   "execution_count": 54,
   "id": "e222352b",
   "metadata": {},
   "outputs": [
    {
     "data": {
      "text/plain": [
       "<KerasTensor: shape=(None, 4096) dtype=float32 (created by layer 'dense')>"
      ]
     },
     "execution_count": 54,
     "metadata": {},
     "output_type": "execute_result"
    }
   ],
   "source": [
    "d1"
   ]
  },
  {
   "cell_type": "code",
   "execution_count": 55,
   "id": "1035cde9",
   "metadata": {},
   "outputs": [],
   "source": [
    "mod = Model(inputs=[inp], outputs=[d1], name='embedding')"
   ]
  },
  {
   "cell_type": "code",
   "execution_count": 56,
   "id": "d607f0c8",
   "metadata": {},
   "outputs": [
    {
     "name": "stdout",
     "output_type": "stream",
     "text": [
      "Model: \"embedding\"\n",
      "_________________________________________________________________\n",
      " Layer (type)                Output Shape              Param #   \n",
      "=================================================================\n",
      " input_image (InputLayer)    [(None, 100, 100, 3)]     0         \n",
      "                                                                 \n",
      " conv2d (Conv2D)             (None, 91, 91, 64)        19264     \n",
      "                                                                 \n",
      " max_pooling2d (MaxPooling2D  (None, 46, 46, 64)       0         \n",
      " )                                                               \n",
      "                                                                 \n",
      " conv2d_1 (Conv2D)           (None, 40, 40, 128)       401536    \n",
      "                                                                 \n",
      " max_pooling2d_1 (MaxPooling  (None, 20, 20, 128)      0         \n",
      " 2D)                                                             \n",
      "                                                                 \n",
      " conv2d_2 (Conv2D)           (None, 17, 17, 128)       262272    \n",
      "                                                                 \n",
      " max_pooling2d_2 (MaxPooling  (None, 9, 9, 128)        0         \n",
      " 2D)                                                             \n",
      "                                                                 \n",
      " conv2d_3 (Conv2D)           (None, 6, 6, 256)         524544    \n",
      "                                                                 \n",
      " flatten (Flatten)           (None, 9216)              0         \n",
      "                                                                 \n",
      " dense (Dense)               (None, 4096)              37752832  \n",
      "                                                                 \n",
      "=================================================================\n",
      "Total params: 38,960,448\n",
      "Trainable params: 38,960,448\n",
      "Non-trainable params: 0\n",
      "_________________________________________________________________\n"
     ]
    }
   ],
   "source": [
    "mod.summary()"
   ]
  },
  {
   "cell_type": "code",
   "execution_count": 57,
   "id": "6b84f863",
   "metadata": {},
   "outputs": [],
   "source": [
    "def make_embedding():\n",
    "    inp = Input(shape=(100,100,3), name='input_image')\n",
    "    \n",
    "    # First block\n",
    "    c1 = Conv2D(64, (10,10), activation='relu')(inp)\n",
    "    m1 = MaxPooling2D(64, (2,2), padding='same')(c1)\n",
    "    \n",
    "    # Second block\n",
    "    c2 = Conv2D(128, (7,7), activation='relu')(m1)\n",
    "    m2 = MaxPooling2D(64, (2,2), padding='same')(c2)\n",
    "    \n",
    "    # Third block\n",
    "    c3 = Conv2D(128, (4,4), activation='relu')(m2)\n",
    "    m3 = MaxPooling2D(64, (2,2), padding='same')(c3)\n",
    "    \n",
    "    # Final embedding block\n",
    "    c4 = Conv2D(256, (4,4), activation='relu')(m3)\n",
    "    f1 = Flatten()(c4)\n",
    "    d1 = Dense(4096, activation='sigmoid')(f1)\n",
    "    \n",
    "    return Model(inputs=[inp], outputs=[d1], name='embedding')"
   ]
  },
  {
   "cell_type": "code",
   "execution_count": 58,
   "id": "154471e5",
   "metadata": {},
   "outputs": [],
   "source": [
    "embedding = make_embedding()"
   ]
  },
  {
   "cell_type": "code",
   "execution_count": 59,
   "id": "0de7cb5c",
   "metadata": {},
   "outputs": [
    {
     "name": "stdout",
     "output_type": "stream",
     "text": [
      "Model: \"embedding\"\n",
      "_________________________________________________________________\n",
      " Layer (type)                Output Shape              Param #   \n",
      "=================================================================\n",
      " input_image (InputLayer)    [(None, 100, 100, 3)]     0         \n",
      "                                                                 \n",
      " conv2d_4 (Conv2D)           (None, 91, 91, 64)        19264     \n",
      "                                                                 \n",
      " max_pooling2d_3 (MaxPooling  (None, 46, 46, 64)       0         \n",
      " 2D)                                                             \n",
      "                                                                 \n",
      " conv2d_5 (Conv2D)           (None, 40, 40, 128)       401536    \n",
      "                                                                 \n",
      " max_pooling2d_4 (MaxPooling  (None, 20, 20, 128)      0         \n",
      " 2D)                                                             \n",
      "                                                                 \n",
      " conv2d_6 (Conv2D)           (None, 17, 17, 128)       262272    \n",
      "                                                                 \n",
      " max_pooling2d_5 (MaxPooling  (None, 9, 9, 128)        0         \n",
      " 2D)                                                             \n",
      "                                                                 \n",
      " conv2d_7 (Conv2D)           (None, 6, 6, 256)         524544    \n",
      "                                                                 \n",
      " flatten_1 (Flatten)         (None, 9216)              0         \n",
      "                                                                 \n",
      " dense_1 (Dense)             (None, 4096)              37752832  \n",
      "                                                                 \n",
      "=================================================================\n",
      "Total params: 38,960,448\n",
      "Trainable params: 38,960,448\n",
      "Non-trainable params: 0\n",
      "_________________________________________________________________\n"
     ]
    }
   ],
   "source": [
    "embedding.summary()"
   ]
  },
  {
   "cell_type": "markdown",
   "id": "5361cae1",
   "metadata": {},
   "source": [
    "## 4.2. Build Distance Layer"
   ]
  },
  {
   "cell_type": "code",
   "execution_count": 60,
   "id": "5a780c52",
   "metadata": {},
   "outputs": [],
   "source": [
    "# Siamese L1 Distance class\n",
    "class L1Dist(Layer):\n",
    "    # Init method - inheritance\n",
    "    def __init__(self, **kwargs):\n",
    "        super().__init__()\n",
    "        \n",
    "    # Similarity calculation\n",
    "    def call(self, input_embedding, validation_embedding):\n",
    "        return tf.math.abs(input_embedding - validation_embedding)"
   ]
  },
  {
   "cell_type": "markdown",
   "id": "0efa9d26",
   "metadata": {},
   "source": [
    "## 4.3. Make Siamese Model"
   ]
  },
  {
   "cell_type": "code",
   "execution_count": 61,
   "id": "6dce24be",
   "metadata": {},
   "outputs": [],
   "source": [
    "input_image = Input(name='input_image', shape=(100,100,3))\n",
    "validation_image = Input(name='va;idation_image', shape=(100,100,3))"
   ]
  },
  {
   "cell_type": "code",
   "execution_count": 62,
   "id": "aa78fba7",
   "metadata": {},
   "outputs": [],
   "source": [
    "inp_embedding = embedding(input_image)\n",
    "val_embedding = embedding(validation_image)"
   ]
  },
  {
   "cell_type": "code",
   "execution_count": 63,
   "id": "09c6d71f",
   "metadata": {},
   "outputs": [
    {
     "data": {
      "text/plain": [
       "<KerasTensor: shape=(None, 4096) dtype=float32 (created by layer 'embedding')>"
      ]
     },
     "execution_count": 63,
     "metadata": {},
     "output_type": "execute_result"
    }
   ],
   "source": [
    "inp_embedding"
   ]
  },
  {
   "cell_type": "code",
   "execution_count": 64,
   "id": "802e5bd5",
   "metadata": {},
   "outputs": [
    {
     "data": {
      "text/plain": [
       "<KerasTensor: shape=(None, 4096) dtype=float32 (created by layer 'embedding')>"
      ]
     },
     "execution_count": 64,
     "metadata": {},
     "output_type": "execute_result"
    }
   ],
   "source": [
    "val_embedding"
   ]
  },
  {
   "cell_type": "code",
   "execution_count": 65,
   "id": "3bafd49a",
   "metadata": {},
   "outputs": [],
   "source": [
    "siamese_layer = L1Dist()"
   ]
  },
  {
   "cell_type": "code",
   "execution_count": 66,
   "id": "36379adf",
   "metadata": {},
   "outputs": [
    {
     "data": {
      "text/plain": [
       "<KerasTensor: shape=(None, 4096) dtype=float32 (created by layer 'l1_dist')>"
      ]
     },
     "execution_count": 66,
     "metadata": {},
     "output_type": "execute_result"
    }
   ],
   "source": [
    "siamese_layer(inp_embedding, val_embedding)"
   ]
  },
  {
   "cell_type": "code",
   "execution_count": 67,
   "id": "ffd836a7",
   "metadata": {},
   "outputs": [],
   "source": [
    "distances = siamese_layer(inp_embedding, val_embedding)\n",
    "classifier = Dense(1, activation='sigmoid')(distances)"
   ]
  },
  {
   "cell_type": "code",
   "execution_count": 68,
   "id": "74d5cdd4",
   "metadata": {},
   "outputs": [
    {
     "data": {
      "text/plain": [
       "<KerasTensor: shape=(None, 1) dtype=float32 (created by layer 'dense_2')>"
      ]
     },
     "execution_count": 68,
     "metadata": {},
     "output_type": "execute_result"
    }
   ],
   "source": [
    "classifier"
   ]
  },
  {
   "cell_type": "code",
   "execution_count": 69,
   "id": "f8c855d3",
   "metadata": {},
   "outputs": [],
   "source": [
    "siamese_network = Model(inputs=[input_image, validation_image], outputs=classifier, name='SiameseNetwork')"
   ]
  },
  {
   "cell_type": "code",
   "execution_count": 70,
   "id": "05e5c290",
   "metadata": {},
   "outputs": [
    {
     "name": "stdout",
     "output_type": "stream",
     "text": [
      "Model: \"SiameseNetwork\"\n",
      "__________________________________________________________________________________________________\n",
      " Layer (type)                   Output Shape         Param #     Connected to                     \n",
      "==================================================================================================\n",
      " input_image (InputLayer)       [(None, 100, 100, 3  0           []                               \n",
      "                                )]                                                                \n",
      "                                                                                                  \n",
      " va;idation_image (InputLayer)  [(None, 100, 100, 3  0           []                               \n",
      "                                )]                                                                \n",
      "                                                                                                  \n",
      " embedding (Functional)         (None, 4096)         38960448    ['input_image[0][0]',            \n",
      "                                                                  'va;idation_image[0][0]']       \n",
      "                                                                                                  \n",
      " l1_dist (L1Dist)               (None, 4096)         0           ['embedding[0][0]',              \n",
      "                                                                  'embedding[1][0]']              \n",
      "                                                                                                  \n",
      " dense_2 (Dense)                (None, 1)            4097        ['l1_dist[1][0]']                \n",
      "                                                                                                  \n",
      "==================================================================================================\n",
      "Total params: 38,964,545\n",
      "Trainable params: 38,964,545\n",
      "Non-trainable params: 0\n",
      "__________________________________________________________________________________________________\n"
     ]
    }
   ],
   "source": [
    "siamese_network.summary()"
   ]
  },
  {
   "cell_type": "code",
   "execution_count": 71,
   "id": "666d693b",
   "metadata": {},
   "outputs": [],
   "source": [
    "def make_siamese_model():\n",
    "    # Anchor image input in the network\n",
    "    input_image = Input(name='input_image', shape=(100,100,3))\n",
    "    \n",
    "    # Validation image in the network\n",
    "    validation_image = Input(name='va;idation_image', shape=(100,100,3))\n",
    "    \n",
    "    # Combine Siamese distance components\n",
    "    siamese_layer = L1Dist()\n",
    "    siamese_layer._name = 'distance'\n",
    "    distances = siamese_layer(embedding(input_image), embedding(validation_image))\n",
    "    \n",
    "    # Classification layer\n",
    "    classifier = Dense(1, activation='sigmoid')(distances)\n",
    "    \n",
    "    return Model(inputs=[input_image, validation_image], outputs=classifier, name='SiameseNetwork')"
   ]
  },
  {
   "cell_type": "code",
   "execution_count": 72,
   "id": "c7d0fbc2",
   "metadata": {},
   "outputs": [],
   "source": [
    "siamese_model = make_siamese_model()"
   ]
  },
  {
   "cell_type": "code",
   "execution_count": 73,
   "id": "2197644c",
   "metadata": {},
   "outputs": [
    {
     "name": "stdout",
     "output_type": "stream",
     "text": [
      "Model: \"SiameseNetwork\"\n",
      "__________________________________________________________________________________________________\n",
      " Layer (type)                   Output Shape         Param #     Connected to                     \n",
      "==================================================================================================\n",
      " input_image (InputLayer)       [(None, 100, 100, 3  0           []                               \n",
      "                                )]                                                                \n",
      "                                                                                                  \n",
      " va;idation_image (InputLayer)  [(None, 100, 100, 3  0           []                               \n",
      "                                )]                                                                \n",
      "                                                                                                  \n",
      " embedding (Functional)         (None, 4096)         38960448    ['input_image[0][0]',            \n",
      "                                                                  'va;idation_image[0][0]']       \n",
      "                                                                                                  \n",
      " distance (L1Dist)              (None, 4096)         0           ['embedding[2][0]',              \n",
      "                                                                  'embedding[3][0]']              \n",
      "                                                                                                  \n",
      " dense_3 (Dense)                (None, 1)            4097        ['distance[0][0]']               \n",
      "                                                                                                  \n",
      "==================================================================================================\n",
      "Total params: 38,964,545\n",
      "Trainable params: 38,964,545\n",
      "Non-trainable params: 0\n",
      "__________________________________________________________________________________________________\n"
     ]
    }
   ],
   "source": [
    "siamese_model.summary()"
   ]
  },
  {
   "cell_type": "markdown",
   "id": "3081779a",
   "metadata": {},
   "source": [
    "#  5. Training"
   ]
  },
  {
   "cell_type": "markdown",
   "id": "1ddbea95",
   "metadata": {},
   "source": [
    "## 5.1. Setup Loss and Optimizer"
   ]
  },
  {
   "cell_type": "code",
   "execution_count": 74,
   "id": "dbfdb4a6",
   "metadata": {},
   "outputs": [],
   "source": [
    "binary_cross_loss = tf.losses.BinaryCrossentropy()"
   ]
  },
  {
   "cell_type": "code",
   "execution_count": 75,
   "id": "71944f2f",
   "metadata": {},
   "outputs": [],
   "source": [
    "opt = tf.keras.optimizers.Adam(1e-4) # 0.0001"
   ]
  },
  {
   "cell_type": "markdown",
   "id": "3d7945ea",
   "metadata": {},
   "source": [
    "## 5.2. Establish Checkpoints"
   ]
  },
  {
   "cell_type": "code",
   "execution_count": 76,
   "id": "3d693af6",
   "metadata": {},
   "outputs": [],
   "source": [
    "checkpoint_dir = './training_checkpoints'\n",
    "checkpoint_prefix = os.path.join(checkpoint_dir, 'ckpt')\n",
    "checkpoint = tf.train.Checkpoint(opt=opt, siamese_model=siamese_model)"
   ]
  },
  {
   "cell_type": "markdown",
   "id": "73ba67be",
   "metadata": {},
   "source": [
    "## 5.3. Build Train Step Function"
   ]
  },
  {
   "cell_type": "code",
   "execution_count": 77,
   "id": "6e06faf9",
   "metadata": {},
   "outputs": [],
   "source": [
    "test_batch = train_data.as_numpy_iterator()"
   ]
  },
  {
   "cell_type": "code",
   "execution_count": 78,
   "id": "346ef07f",
   "metadata": {},
   "outputs": [],
   "source": [
    "batch_1 = test_batch.next()"
   ]
  },
  {
   "cell_type": "code",
   "execution_count": 79,
   "id": "360c3a46",
   "metadata": {},
   "outputs": [
    {
     "data": {
      "text/plain": [
       "array([[[[0.73284316, 0.7563726 , 0.74852943],\n",
       "         [0.7318627 , 0.74460787, 0.7436274 ],\n",
       "         [0.7345588 , 0.7384804 , 0.7522059 ],\n",
       "         ...,\n",
       "         [0.6784314 , 0.6862745 , 0.6745098 ],\n",
       "         [0.6852941 , 0.6931372 , 0.6813725 ],\n",
       "         [0.6791667 , 0.6870098 , 0.6752451 ]],\n",
       "\n",
       "        [[0.70612746, 0.72769606, 0.72083336],\n",
       "         [0.6102941 , 0.6230392 , 0.6220588 ],\n",
       "         [0.45882353, 0.4627451 , 0.4764706 ],\n",
       "         ...,\n",
       "         [0.6745098 , 0.69411767, 0.6784314 ],\n",
       "         [0.6754902 , 0.69509804, 0.67941177],\n",
       "         [0.6666667 , 0.6862745 , 0.67058825]],\n",
       "\n",
       "        [[0.4272059 , 0.44877452, 0.44191176],\n",
       "         [0.36740196, 0.38014707, 0.38504902],\n",
       "         [0.35637254, 0.3602941 , 0.3754902 ],\n",
       "         ...,\n",
       "         [0.6767157 , 0.6875    , 0.6791667 ],\n",
       "         [0.68259805, 0.6933824 , 0.68063724],\n",
       "         [0.6764706 , 0.6872549 , 0.6745098 ]],\n",
       "\n",
       "        ...,\n",
       "\n",
       "        [[0.29313725, 0.2882353 , 0.34313726],\n",
       "         [0.30784315, 0.2990196 , 0.35686275],\n",
       "         [0.31691176, 0.3022059 , 0.36887255],\n",
       "         ...,\n",
       "         [0.19264705, 0.18112744, 0.24485295],\n",
       "         [0.19044118, 0.18259804, 0.2375    ],\n",
       "         [0.1764706 , 0.16862746, 0.22352941]],\n",
       "\n",
       "        [[0.28088236, 0.27303922, 0.32794118],\n",
       "         [0.27745098, 0.26936275, 0.325     ],\n",
       "         [0.28431374, 0.27034312, 0.33039215],\n",
       "         ...,\n",
       "         [0.19877452, 0.18357843, 0.2495098 ],\n",
       "         [0.20318627, 0.18946078, 0.24877451],\n",
       "         [0.19313726, 0.18529412, 0.24019608]],\n",
       "\n",
       "        [[0.2840686 , 0.2723039 , 0.3389706 ],\n",
       "         [0.27279413, 0.2629902 , 0.31887254],\n",
       "         [0.2764706 , 0.26078433, 0.31960785],\n",
       "         ...,\n",
       "         [0.17083333, 0.15514706, 0.22181372],\n",
       "         [0.19730392, 0.18161765, 0.24828431],\n",
       "         [0.19705883, 0.18137255, 0.24019608]]],\n",
       "\n",
       "\n",
       "       [[[0.7492647 , 0.7492647 , 0.75710785],\n",
       "         [0.7490196 , 0.7490196 , 0.75686276],\n",
       "         [0.7490196 , 0.7490196 , 0.75686276],\n",
       "         ...,\n",
       "         [0.6791667 , 0.6870098 , 0.6811274 ],\n",
       "         [0.68235296, 0.6990196 , 0.6843137 ],\n",
       "         [0.6813725 , 0.70098037, 0.6852941 ]],\n",
       "\n",
       "        [[0.7497549 , 0.7497549 , 0.75759804],\n",
       "         [0.7558824 , 0.7558824 , 0.7637255 ],\n",
       "         [0.7507353 , 0.7507353 , 0.75710785],\n",
       "         ...,\n",
       "         [0.6781863 , 0.68897057, 0.68063724],\n",
       "         [0.6767157 , 0.6963235 , 0.6791667 ],\n",
       "         [0.66862744, 0.6882353 , 0.6647059 ]],\n",
       "\n",
       "        [[0.7529412 , 0.7529412 , 0.75490195],\n",
       "         [0.7529412 , 0.7529412 , 0.75490195],\n",
       "         [0.7529412 , 0.7529412 , 0.7534314 ],\n",
       "         ...,\n",
       "         [0.67965686, 0.6970588 , 0.68210787],\n",
       "         [0.6737745 , 0.6933824 , 0.6718137 ],\n",
       "         [0.6696078 , 0.69509804, 0.66862744]],\n",
       "\n",
       "        ...,\n",
       "\n",
       "        [[0.3257353 , 0.31004903, 0.36887255],\n",
       "         [0.32769608, 0.3129902 , 0.3752451 ],\n",
       "         [0.31911764, 0.30735293, 0.3740196 ],\n",
       "         ...,\n",
       "         [0.19534314, 0.2002451 , 0.26004902],\n",
       "         [0.19068627, 0.1867647 , 0.2495098 ],\n",
       "         [0.18627451, 0.1764706 , 0.24215686]],\n",
       "\n",
       "        [[0.29313725, 0.27745098, 0.34215686],\n",
       "         [0.29313725, 0.2784314 , 0.34509805],\n",
       "         [0.30465686, 0.29289216, 0.35955882],\n",
       "         ...,\n",
       "         [0.1637255 , 0.16862746, 0.2240196 ],\n",
       "         [0.18578431, 0.18186274, 0.24460784],\n",
       "         [0.22352941, 0.21960784, 0.28235295]],\n",
       "\n",
       "        [[0.2901961 , 0.27450982, 0.34117648],\n",
       "         [0.27745098, 0.2627451 , 0.32941177],\n",
       "         [0.2872549 , 0.2754902 , 0.3480392 ],\n",
       "         ...,\n",
       "         [0.17352942, 0.17843138, 0.23235294],\n",
       "         [0.17696078, 0.17303921, 0.2357843 ],\n",
       "         [0.21862745, 0.21470588, 0.27745098]]],\n",
       "\n",
       "\n",
       "       [[[0.7443628 , 0.76004905, 0.7639706 ],\n",
       "         [0.74313724, 0.7588235 , 0.7627451 ],\n",
       "         [0.7409314 , 0.75661767, 0.76053923],\n",
       "         ...,\n",
       "         [0.67941177, 0.67941177, 0.67156863],\n",
       "         [0.67941177, 0.68235296, 0.66568625],\n",
       "         [0.67941177, 0.68333334, 0.6637255 ]],\n",
       "\n",
       "        [[0.7414216 , 0.75710785, 0.7590686 ],\n",
       "         [0.74240196, 0.75808823, 0.76004905],\n",
       "         [0.7389706 , 0.75465685, 0.75661767],\n",
       "         ...,\n",
       "         [0.67058825, 0.672549  , 0.6637255 ],\n",
       "         [0.6767157 , 0.68088233, 0.6639706 ],\n",
       "         [0.68039215, 0.6852941 , 0.66568625]],\n",
       "\n",
       "        [[0.74215686, 0.75784314, 0.75392157],\n",
       "         [0.7362745 , 0.7519608 , 0.7480392 ],\n",
       "         [0.7379902 , 0.7536765 , 0.7497549 ],\n",
       "         ...,\n",
       "         [0.68063724, 0.6884804 , 0.6767157 ],\n",
       "         [0.6791667 , 0.6870098 , 0.6737745 ],\n",
       "         [0.6745098 , 0.68235296, 0.66862744]],\n",
       "\n",
       "        ...,\n",
       "\n",
       "        [[0.30245098, 0.31029412, 0.3612745 ],\n",
       "         [0.2990196 , 0.30392158, 0.35514706],\n",
       "         [0.3125    , 0.3129902 , 0.3620098 ],\n",
       "         ...,\n",
       "         [0.2       , 0.18431373, 0.24313726],\n",
       "         [0.19705883, 0.18137255, 0.24019608],\n",
       "         [0.19583334, 0.18014705, 0.2389706 ]],\n",
       "\n",
       "        [[0.2754902 , 0.27450982, 0.32843137],\n",
       "         [0.28529412, 0.28137255, 0.3362745 ],\n",
       "         [0.30269608, 0.29656863, 0.3514706 ],\n",
       "         ...,\n",
       "         [0.20318627, 0.1875    , 0.24632353],\n",
       "         [0.2007353 , 0.18504901, 0.24387255],\n",
       "         [0.19117647, 0.1754902 , 0.23431373]],\n",
       "\n",
       "        [[0.29607844, 0.29215688, 0.34705883],\n",
       "         [0.28137255, 0.27745098, 0.34019607],\n",
       "         [0.28431374, 0.27450982, 0.34019607],\n",
       "         ...,\n",
       "         [0.20490196, 0.19705883, 0.25196078],\n",
       "         [0.19730392, 0.18946078, 0.24436274],\n",
       "         [0.18431373, 0.1764706 , 0.23137255]]],\n",
       "\n",
       "\n",
       "       ...,\n",
       "\n",
       "\n",
       "       [[[0.76936275, 0.7772059 , 0.7654412 ],\n",
       "         [0.7617647 , 0.78137255, 0.7656863 ],\n",
       "         [0.7627451 , 0.7794118 , 0.77254903],\n",
       "         ...,\n",
       "         [0.6904412 , 0.71004903, 0.6865196 ],\n",
       "         [0.6911765 , 0.7107843 , 0.6872549 ],\n",
       "         [0.6862745 , 0.7058824 , 0.68235296]],\n",
       "\n",
       "        [[0.7703431 , 0.78995097, 0.7742647 ],\n",
       "         [0.7678922 , 0.7857843 , 0.7752451 ],\n",
       "         [0.7656863 , 0.78137255, 0.777451  ],\n",
       "         ...,\n",
       "         [0.69411767, 0.7137255 , 0.6901961 ],\n",
       "         [0.69191176, 0.7115196 , 0.6879902 ],\n",
       "         [0.6872549 , 0.70686275, 0.68333334]],\n",
       "\n",
       "        [[0.76862746, 0.7852941 , 0.77843136],\n",
       "         [0.76691175, 0.782598  , 0.77867645],\n",
       "         [0.7647059 , 0.78039217, 0.7764706 ],\n",
       "         ...,\n",
       "         [0.69411767, 0.7137255 , 0.6901961 ],\n",
       "         [0.69411767, 0.7137255 , 0.6901961 ],\n",
       "         [0.6872549 , 0.70686275, 0.68333334]],\n",
       "\n",
       "        ...,\n",
       "\n",
       "        [[0.33063725, 0.31887254, 0.3855392 ],\n",
       "         [0.30514705, 0.29338235, 0.360049  ],\n",
       "         [0.31593138, 0.30416667, 0.37083334],\n",
       "         ...,\n",
       "         [0.20980392, 0.20588236, 0.26862746],\n",
       "         [0.20931372, 0.20539215, 0.26813725],\n",
       "         [0.20784314, 0.20392157, 0.26666668]],\n",
       "\n",
       "        [[0.31495097, 0.3002451 , 0.36691177],\n",
       "         [0.2992647 , 0.28455883, 0.3512255 ],\n",
       "         [0.30416667, 0.29166666, 0.35833332],\n",
       "         ...,\n",
       "         [0.19240196, 0.18848039, 0.2512255 ],\n",
       "         [0.20882353, 0.20490196, 0.26764706],\n",
       "         [0.22941177, 0.23431373, 0.29411766]],\n",
       "\n",
       "        [[0.31666666, 0.29705882, 0.3754902 ],\n",
       "         [0.30563724, 0.28799018, 0.36544117],\n",
       "         [0.31642157, 0.30465686, 0.37916666],\n",
       "         ...,\n",
       "         [0.19215687, 0.1882353 , 0.24313726],\n",
       "         [0.18921569, 0.18529412, 0.24019608],\n",
       "         [0.2245098 , 0.23235294, 0.28333333]]],\n",
       "\n",
       "\n",
       "       [[[0.7588235 , 0.7627451 , 0.7705882 ],\n",
       "         [0.75416666, 0.75808823, 0.76593137],\n",
       "         [0.7487745 , 0.7526961 , 0.76053923],\n",
       "         ...,\n",
       "         [0.67132354, 0.6987745 , 0.67132354],\n",
       "         [0.6745098 , 0.6960784 , 0.67156863],\n",
       "         [0.6666667 , 0.6862745 , 0.6627451 ]],\n",
       "\n",
       "        [[0.75759804, 0.7644608 , 0.7713235 ],\n",
       "         [0.7522059 , 0.7590686 , 0.76593137],\n",
       "         [0.7492647 , 0.7561275 , 0.7629902 ],\n",
       "         ...,\n",
       "         [0.6742647 , 0.6960784 , 0.6789216 ],\n",
       "         [0.6735294 , 0.6931372 , 0.67156863],\n",
       "         [0.66764706, 0.6872549 , 0.66568625]],\n",
       "\n",
       "        [[0.7441176 , 0.75980395, 0.7637255 ],\n",
       "         [0.74313724, 0.7588235 , 0.7627451 ],\n",
       "         [0.735049  , 0.75514704, 0.75686276],\n",
       "         ...,\n",
       "         [0.6764706 , 0.6960784 , 0.68039215],\n",
       "         [0.67941177, 0.6990196 , 0.68333334],\n",
       "         [0.68039215, 0.6911765 , 0.6784314 ]],\n",
       "\n",
       "        ...,\n",
       "\n",
       "        [[0.31740198, 0.3095588 , 0.3615196 ],\n",
       "         [0.31691176, 0.30906862, 0.360049  ],\n",
       "         [0.3154412 , 0.30759802, 0.35857844],\n",
       "         ...,\n",
       "         [0.19044118, 0.18259804, 0.2375    ],\n",
       "         [0.19681373, 0.18970588, 0.24460784],\n",
       "         [0.19289216, 0.1889706 , 0.24387255]],\n",
       "\n",
       "        [[0.30686274, 0.29313725, 0.3509804 ],\n",
       "         [0.30612746, 0.29387254, 0.35      ],\n",
       "         [0.30392158, 0.29607844, 0.35      ],\n",
       "         ...,\n",
       "         [0.18284313, 0.17352942, 0.2365196 ],\n",
       "         [0.20122549, 0.19705883, 0.25343138],\n",
       "         [0.20122549, 0.19730392, 0.25220588]],\n",
       "\n",
       "        [[0.30392158, 0.2882353 , 0.34705883],\n",
       "         [0.3129902 , 0.29730392, 0.35612744],\n",
       "         [0.3107843 , 0.3009804 , 0.35686275],\n",
       "         ...,\n",
       "         [0.1870098 , 0.17720588, 0.24289216],\n",
       "         [0.19828431, 0.19436274, 0.25710785],\n",
       "         [0.21887255, 0.21495098, 0.27769607]]],\n",
       "\n",
       "\n",
       "       [[[0.77156866, 0.7872549 , 0.78333336],\n",
       "         [0.7647059 , 0.78039217, 0.7764706 ],\n",
       "         [0.7617647 , 0.777451  , 0.7735294 ],\n",
       "         ...,\n",
       "         [0.69803923, 0.7058824 , 0.69411767],\n",
       "         [0.7012255 , 0.70906866, 0.69730395],\n",
       "         [0.7012255 , 0.70906866, 0.69730395]],\n",
       "\n",
       "        [[0.76862746, 0.7921569 , 0.7862745 ],\n",
       "         [0.7590686 , 0.782598  , 0.7767157 ],\n",
       "         [0.7561275 , 0.7752451 , 0.77156866],\n",
       "         ...,\n",
       "         [0.69803923, 0.7058824 , 0.69411767],\n",
       "         [0.7012255 , 0.70906866, 0.69730395],\n",
       "         [0.70098037, 0.7088235 , 0.6970588 ]],\n",
       "\n",
       "        [[0.7607843 , 0.78431374, 0.78431374],\n",
       "         [0.7607843 , 0.78431374, 0.78431374],\n",
       "         [0.7607843 , 0.78431374, 0.78431374],\n",
       "         ...,\n",
       "         [0.6990196 , 0.70686275, 0.69509804],\n",
       "         [0.7019608 , 0.70980394, 0.69803923],\n",
       "         [0.69803923, 0.7058824 , 0.69411767]],\n",
       "\n",
       "        ...,\n",
       "\n",
       "        [[0.33235294, 0.31666666, 0.3754902 ],\n",
       "         [0.31936276, 0.30367646, 0.3629902 ],\n",
       "         [0.3240196 , 0.30906862, 0.36985293],\n",
       "         ...,\n",
       "         [0.17990196, 0.175     , 0.22990195],\n",
       "         [0.19681373, 0.19191177, 0.24681373],\n",
       "         [0.2129902 , 0.20612745, 0.26102942]],\n",
       "\n",
       "        [[0.31495097, 0.2992647 , 0.35808823],\n",
       "         [0.2997549 , 0.2870098 , 0.35220587],\n",
       "         [0.3022059 , 0.2901961 , 0.35686275],\n",
       "         ...,\n",
       "         [0.16862746, 0.16078432, 0.21568628],\n",
       "         [0.1889706 , 0.18112744, 0.23602942],\n",
       "         [0.2252451 , 0.22132353, 0.27622548]],\n",
       "\n",
       "        [[0.29803923, 0.2901961 , 0.34509805],\n",
       "         [0.30882353, 0.29705882, 0.36372548],\n",
       "         [0.30710784, 0.29534313, 0.3620098 ],\n",
       "         ...,\n",
       "         [0.19779412, 0.18995099, 0.24485295],\n",
       "         [0.20392157, 0.19607843, 0.2509804 ],\n",
       "         [0.23627451, 0.23235294, 0.2872549 ]]]], dtype=float32)"
      ]
     },
     "execution_count": 79,
     "metadata": {},
     "output_type": "execute_result"
    }
   ],
   "source": [
    "batch_1[0]"
   ]
  },
  {
   "cell_type": "code",
   "execution_count": 80,
   "id": "1190a8da",
   "metadata": {},
   "outputs": [],
   "source": [
    "X = batch_1[:2]"
   ]
  },
  {
   "cell_type": "code",
   "execution_count": 81,
   "id": "d7c4a2c2",
   "metadata": {},
   "outputs": [
    {
     "data": {
      "text/plain": [
       "(2, 16, 100, 100, 3)"
      ]
     },
     "execution_count": 81,
     "metadata": {},
     "output_type": "execute_result"
    }
   ],
   "source": [
    "np.array(X).shape"
   ]
  },
  {
   "cell_type": "code",
   "execution_count": 82,
   "id": "3d59d44e",
   "metadata": {},
   "outputs": [],
   "source": [
    "y = batch_1[2]"
   ]
  },
  {
   "cell_type": "code",
   "execution_count": 83,
   "id": "1cf314d4",
   "metadata": {},
   "outputs": [
    {
     "data": {
      "text/plain": [
       "array([0., 0., 0., 0., 0., 1., 0., 1., 1., 0., 1., 1., 0., 1., 0., 0.],\n",
       "      dtype=float32)"
      ]
     },
     "execution_count": 83,
     "metadata": {},
     "output_type": "execute_result"
    }
   ],
   "source": [
    "y"
   ]
  },
  {
   "cell_type": "code",
   "execution_count": 84,
   "id": "4d88357c",
   "metadata": {},
   "outputs": [],
   "source": [
    "@tf.function\n",
    "def train_step(batch):\n",
    "    # Record all of our operations\n",
    "    with tf.GradientTape() as tape:\n",
    "        # Get anchor and positive/negative image\n",
    "        X = batch[:2]\n",
    "        # Get label\n",
    "        y = batch[2]\n",
    "        \n",
    "        # Forward pass\n",
    "        yhat = siamese_model(X, training=True)\n",
    "        # Calculate loss\n",
    "        loss = binary_cross_loss(y, yhat)\n",
    "        \n",
    "    print(loss)\n",
    "    \n",
    "    # Calculate gradients\n",
    "    grad = tape.gradient(loss, siamese_model.trainable_variables)\n",
    "        \n",
    "    # Calculate updated weights and apply to siamese model\n",
    "    opt.apply_gradients(zip(grad, siamese_model.trainable_variables))\n",
    "    \n",
    "    # Return loss\n",
    "    return loss"
   ]
  },
  {
   "cell_type": "markdown",
   "id": "924a6a64",
   "metadata": {},
   "source": [
    "## 5.4. Build Training Loop"
   ]
  },
  {
   "cell_type": "code",
   "execution_count": 85,
   "id": "9cef742d",
   "metadata": {},
   "outputs": [],
   "source": [
    "def train(data, EPOCHS):\n",
    "    # Loop through epochs\n",
    "    for epoch in range(1, EPOCHS + 1):\n",
    "        print('\\nEpoch {}/{}'.format(epoch, EPOCHS))\n",
    "        progbar = tf.keras.utils.Progbar(len(data))\n",
    "    \n",
    "        # Loop through each batch\n",
    "        for idx, batch in enumerate(data):\n",
    "            # Run train step here\n",
    "            train_step(batch)\n",
    "            progbar.update(idx + 1)\n",
    "            \n",
    "        # Save checkpoints\n",
    "        if epoch % 10 == 0:\n",
    "            checkpoint.save(file_prefix=checkpoint_prefix)"
   ]
  },
  {
   "cell_type": "markdown",
   "id": "1114f7e9",
   "metadata": {},
   "source": [
    "## 5.5. Train the model"
   ]
  },
  {
   "cell_type": "code",
   "execution_count": 86,
   "id": "a9925bcd",
   "metadata": {},
   "outputs": [],
   "source": [
    "EPOCHS = 50"
   ]
  },
  {
   "cell_type": "code",
   "execution_count": 87,
   "id": "9319263c",
   "metadata": {},
   "outputs": [
    {
     "name": "stdout",
     "output_type": "stream",
     "text": [
      "\n",
      "Epoch 1/50\n",
      "Tensor(\"binary_crossentropy/weighted_loss/value:0\", shape=(), dtype=float32)\n",
      "Tensor(\"binary_crossentropy/weighted_loss/value:0\", shape=(), dtype=float32)\n",
      "26/27 [===========================>..] - ETA: 0sTensor(\"binary_crossentropy/weighted_loss/value:0\", shape=(), dtype=float32)\n",
      "27/27 [==============================] - 17s 209ms/step\n",
      "\n",
      "Epoch 2/50\n",
      "27/27 [==============================] - 5s 198ms/step\n",
      "\n",
      "Epoch 3/50\n",
      "27/27 [==============================] - 5s 194ms/step\n",
      "\n",
      "Epoch 4/50\n",
      "27/27 [==============================] - 5s 194ms/step\n",
      "\n",
      "Epoch 5/50\n",
      "27/27 [==============================] - 5s 190ms/step\n",
      "\n",
      "Epoch 6/50\n",
      "27/27 [==============================] - 5s 189ms/step\n",
      "\n",
      "Epoch 7/50\n",
      "27/27 [==============================] - 5s 185ms/step\n",
      "\n",
      "Epoch 8/50\n",
      "27/27 [==============================] - 5s 183ms/step\n",
      "\n",
      "Epoch 9/50\n",
      "27/27 [==============================] - 5s 180ms/step\n",
      "\n",
      "Epoch 10/50\n",
      "27/27 [==============================] - 5s 180ms/step\n",
      "\n",
      "Epoch 11/50\n",
      "27/27 [==============================] - 5s 185ms/step\n",
      "\n",
      "Epoch 12/50\n",
      "27/27 [==============================] - 5s 180ms/step\n",
      "\n",
      "Epoch 13/50\n",
      "27/27 [==============================] - 5s 182ms/step\n",
      "\n",
      "Epoch 14/50\n",
      "27/27 [==============================] - 5s 182ms/step\n",
      "\n",
      "Epoch 15/50\n",
      "27/27 [==============================] - 5s 183ms/step\n",
      "\n",
      "Epoch 16/50\n",
      "27/27 [==============================] - 5s 183ms/step\n",
      "\n",
      "Epoch 17/50\n",
      "27/27 [==============================] - 5s 184ms/step\n",
      "\n",
      "Epoch 18/50\n",
      "27/27 [==============================] - 5s 185ms/step\n",
      "\n",
      "Epoch 19/50\n",
      "27/27 [==============================] - 5s 185ms/step\n",
      "\n",
      "Epoch 20/50\n",
      "27/27 [==============================] - 5s 185ms/step\n",
      "\n",
      "Epoch 21/50\n",
      "27/27 [==============================] - 5s 184ms/step\n",
      "\n",
      "Epoch 22/50\n",
      "27/27 [==============================] - 5s 185ms/step\n",
      "\n",
      "Epoch 23/50\n",
      "27/27 [==============================] - 5s 185ms/step\n",
      "\n",
      "Epoch 24/50\n",
      "27/27 [==============================] - 5s 185ms/step\n",
      "\n",
      "Epoch 25/50\n",
      "27/27 [==============================] - 5s 187ms/step\n",
      "\n",
      "Epoch 26/50\n",
      "27/27 [==============================] - 5s 186ms/step\n",
      "\n",
      "Epoch 27/50\n",
      "27/27 [==============================] - 5s 186ms/step\n",
      "\n",
      "Epoch 28/50\n",
      "27/27 [==============================] - 5s 185ms/step\n",
      "\n",
      "Epoch 29/50\n",
      "27/27 [==============================] - 5s 185ms/step\n",
      "\n",
      "Epoch 30/50\n",
      "27/27 [==============================] - 5s 186ms/step\n",
      "\n",
      "Epoch 31/50\n",
      "27/27 [==============================] - 5s 185ms/step\n",
      "\n",
      "Epoch 32/50\n",
      "27/27 [==============================] - 5s 186ms/step\n",
      "\n",
      "Epoch 33/50\n",
      "27/27 [==============================] - 5s 185ms/step\n",
      "\n",
      "Epoch 34/50\n",
      "27/27 [==============================] - 5s 185ms/step\n",
      "\n",
      "Epoch 35/50\n",
      "27/27 [==============================] - 5s 185ms/step\n",
      "\n",
      "Epoch 36/50\n",
      "27/27 [==============================] - 5s 185ms/step\n",
      "\n",
      "Epoch 37/50\n",
      "27/27 [==============================] - 5s 187ms/step\n",
      "\n",
      "Epoch 38/50\n",
      "27/27 [==============================] - 5s 185ms/step\n",
      "\n",
      "Epoch 39/50\n",
      "27/27 [==============================] - 5s 185ms/step\n",
      "\n",
      "Epoch 40/50\n",
      "27/27 [==============================] - 5s 185ms/step\n",
      "\n",
      "Epoch 41/50\n",
      "27/27 [==============================] - 5s 185ms/step\n",
      "\n",
      "Epoch 42/50\n",
      "27/27 [==============================] - 5s 185ms/step\n",
      "\n",
      "Epoch 43/50\n",
      "27/27 [==============================] - 5s 186ms/step\n",
      "\n",
      "Epoch 44/50\n",
      "27/27 [==============================] - 5s 185ms/step\n",
      "\n",
      "Epoch 45/50\n",
      "27/27 [==============================] - 5s 186ms/step\n",
      "\n",
      "Epoch 46/50\n",
      "27/27 [==============================] - 5s 185ms/step\n",
      "\n",
      "Epoch 47/50\n",
      "27/27 [==============================] - 5s 185ms/step\n",
      "\n",
      "Epoch 48/50\n",
      "27/27 [==============================] - 5s 185ms/step\n",
      "\n",
      "Epoch 49/50\n",
      "27/27 [==============================] - 5s 186ms/step\n",
      "\n",
      "Epoch 50/50\n",
      "27/27 [==============================] - 5s 186ms/step\n"
     ]
    }
   ],
   "source": [
    "train(train_data, EPOCHS)"
   ]
  },
  {
   "cell_type": "markdown",
   "id": "d6c073fe",
   "metadata": {},
   "source": [
    "# 6. Evaluate Model"
   ]
  },
  {
   "cell_type": "markdown",
   "id": "5f0db85f",
   "metadata": {},
   "source": [
    "## 6.1. Import Metrics"
   ]
  },
  {
   "cell_type": "code",
   "execution_count": 88,
   "id": "acd3b88a",
   "metadata": {},
   "outputs": [],
   "source": [
    "# Import metric calculations\n",
    "from tensorflow.keras.metrics import Precision, Recall"
   ]
  },
  {
   "cell_type": "markdown",
   "id": "a754856f",
   "metadata": {},
   "source": [
    "## 6.2. Make predictions"
   ]
  },
  {
   "cell_type": "code",
   "execution_count": 89,
   "id": "8ca11398",
   "metadata": {},
   "outputs": [],
   "source": [
    "# Get a batch of test data\n",
    "test_input, test_val, y_true = test_data.as_numpy_iterator().next()"
   ]
  },
  {
   "cell_type": "code",
   "execution_count": 90,
   "id": "edf148f4",
   "metadata": {},
   "outputs": [],
   "source": [
    "test_var = test_data.as_numpy_iterator().next()"
   ]
  },
  {
   "cell_type": "code",
   "execution_count": 91,
   "id": "69b2288c",
   "metadata": {},
   "outputs": [
    {
     "data": {
      "text/plain": [
       "array([0., 1., 0., 1., 1., 0., 0., 0., 1., 1., 1., 1., 1., 0., 1., 1.],\n",
       "      dtype=float32)"
      ]
     },
     "execution_count": 91,
     "metadata": {},
     "output_type": "execute_result"
    }
   ],
   "source": [
    "test_var[2]"
   ]
  },
  {
   "cell_type": "code",
   "execution_count": 92,
   "id": "9934aa65",
   "metadata": {},
   "outputs": [
    {
     "name": "stdout",
     "output_type": "stream",
     "text": [
      "1/1 [==============================] - 0s 96ms/step\n"
     ]
    },
    {
     "data": {
      "text/plain": [
       "array([[1.0000000e+00],\n",
       "       [1.0000000e+00],\n",
       "       [4.3060636e-06],\n",
       "       [1.1078893e-08],\n",
       "       [2.3133016e-09],\n",
       "       [9.9999273e-01],\n",
       "       [1.0000000e+00],\n",
       "       [9.9999952e-01],\n",
       "       [1.8508237e-08],\n",
       "       [2.3478620e-07],\n",
       "       [9.9151039e-01],\n",
       "       [1.0000000e+00],\n",
       "       [9.9999833e-01],\n",
       "       [1.5093276e-09],\n",
       "       [1.0000000e+00],\n",
       "       [1.0000000e+00]], dtype=float32)"
      ]
     },
     "execution_count": 92,
     "metadata": {},
     "output_type": "execute_result"
    }
   ],
   "source": [
    "# Make predictions\n",
    "y_hat = siamese_model.predict([test_input, test_val])\n",
    "y_hat"
   ]
  },
  {
   "cell_type": "code",
   "execution_count": 93,
   "id": "460d98ed",
   "metadata": {},
   "outputs": [
    {
     "data": {
      "text/plain": [
       "[1, 1, 0, 0, 0, 1, 1, 1, 0, 0, 1, 1, 1, 0, 1, 1]"
      ]
     },
     "execution_count": 93,
     "metadata": {},
     "output_type": "execute_result"
    }
   ],
   "source": [
    "# Post processing the results\n",
    "[1 if prediction > 0.5 else 0 for prediction in y_hat]"
   ]
  },
  {
   "cell_type": "code",
   "execution_count": 94,
   "id": "ef825a0a",
   "metadata": {},
   "outputs": [
    {
     "data": {
      "text/plain": [
       "array([1., 1., 0., 0., 0., 1., 1., 1., 0., 0., 1., 1., 1., 0., 1., 1.],\n",
       "      dtype=float32)"
      ]
     },
     "execution_count": 94,
     "metadata": {},
     "output_type": "execute_result"
    }
   ],
   "source": [
    "y_true"
   ]
  },
  {
   "cell_type": "markdown",
   "id": "478714e2",
   "metadata": {},
   "source": [
    "## 6.3. Calculate Metrics"
   ]
  },
  {
   "cell_type": "code",
   "execution_count": 95,
   "id": "f7a93b9a",
   "metadata": {},
   "outputs": [
    {
     "data": {
      "text/plain": [
       "1.0"
      ]
     },
     "execution_count": 95,
     "metadata": {},
     "output_type": "execute_result"
    }
   ],
   "source": [
    "# Create a metric object\n",
    "m = Recall()\n",
    "\n",
    "# Calculate recall value\n",
    "m.update_state(y_true, y_hat)\n",
    "\n",
    "# Return Recall Result\n",
    "m.result().numpy()"
   ]
  },
  {
   "cell_type": "code",
   "execution_count": 96,
   "id": "62c61657",
   "metadata": {},
   "outputs": [
    {
     "data": {
      "text/plain": [
       "1.0"
      ]
     },
     "execution_count": 96,
     "metadata": {},
     "output_type": "execute_result"
    }
   ],
   "source": [
    "# Create a metric object\n",
    "m = Precision()\n",
    "\n",
    "# Calculate precision value\n",
    "m.update_state(y_true, y_hat)\n",
    "\n",
    "# Return Precision Result\n",
    "m.result().numpy()"
   ]
  },
  {
   "cell_type": "markdown",
   "id": "289e70c9",
   "metadata": {},
   "source": [
    "## 6.4. Visualize Results"
   ]
  },
  {
   "cell_type": "code",
   "execution_count": 97,
   "id": "3ce4f8d0",
   "metadata": {},
   "outputs": [
    {
     "data": {
      "image/png": "[encoded data removed]",
      "text/plain": [
       "<Figure size 1800x800 with 2 Axes>"
      ]
     },
     "metadata": {},
     "output_type": "display_data"
    }
   ],
   "source": [
    "# Set plot size\n",
    "plt.figure(figsize=(18,8))\n",
    "\n",
    "# Set first subplot\n",
    "plt.subplot(1,2,1)\n",
    "plt.imshow(test_input[0])\n",
    "\n",
    "# Set second subplot\n",
    "plt.subplot(1,2,2)\n",
    "plt.imshow(test_val[0])\n",
    "\n",
    "# Render cleanly\n",
    "plt.show()"
   ]
  },
  {
   "cell_type": "code",
   "execution_count": 98,
   "id": "65ce222e",
   "metadata": {},
   "outputs": [
    {
     "data": {
      "image/png": "[encoded data removed]",
      "text/plain": [
       "<Figure size 1800x800 with 2 Axes>"
      ]
     },
     "metadata": {},
     "output_type": "display_data"
    }
   ],
   "source": [
    "plt.figure(figsize=(18,8))\n",
    "plt.subplot(1,2,1)\n",
    "plt.imshow(test_input[2])\n",
    "plt.subplot(1,2,2)\n",
    "plt.imshow(test_val[2])\n",
    "plt.show()"
   ]
  },
  {
   "cell_type": "code",
   "execution_count": 99,
   "id": "e46cfe46",
   "metadata": {},
   "outputs": [
    {
     "data": {
      "image/png": "[encoded data removed]",
      "text/plain": [
       "<Figure size 1800x800 with 2 Axes>"
      ]
     },
     "metadata": {},
     "output_type": "display_data"
    }
   ],
   "source": [
    "plt.figure(figsize=(18,8))\n",
    "plt.subplot(1,2,1)\n",
    "plt.imshow(test_input[1])\n",
    "plt.subplot(1,2,2)\n",
    "plt.imshow(test_val[1])\n",
    "plt.show()"
   ]
  },
  {
   "cell_type": "markdown",
   "id": "e84be97e",
   "metadata": {},
   "source": [
    "# 7. Save Model"
   ]
  },
  {
   "cell_type": "code",
   "execution_count": 100,
   "id": "573ccc1a",
   "metadata": {},
   "outputs": [
    {
     "name": "stdout",
     "output_type": "stream",
     "text": [
      "WARNING:tensorflow:Compiled the loaded model, but the compiled metrics have yet to be built. `model.compile_metrics` will be empty until you train or evaluate the model.\n"
     ]
    }
   ],
   "source": [
    "# Save weights\n",
    "siamese_model.save('siamesemodel.h5')"
   ]
  },
  {
   "cell_type": "code",
   "execution_count": 101,
   "id": "da10c0b2",
   "metadata": {},
   "outputs": [
    {
     "name": "stdout",
     "output_type": "stream",
     "text": [
      "WARNING:tensorflow:No training configuration found in the save file, so the model was *not* compiled. Compile it manually.\n"
     ]
    }
   ],
   "source": [
    "# Reload model\n",
    "reloaded_model = tf.keras.models.load_model('siamesemodel.h5',\n",
    "                                           custom_objects={\n",
    "                                               'L1Dist': L1Dist,\n",
    "                                               'BinaryCrossentropy': tf.losses.BinaryCrossentropy\n",
    "                                           })"
   ]
  },
  {
   "cell_type": "code",
   "execution_count": 102,
   "id": "39b63c76",
   "metadata": {},
   "outputs": [
    {
     "name": "stdout",
     "output_type": "stream",
     "text": [
      "1/1 [==============================] - 0s 75ms/step\n"
     ]
    },
    {
     "data": {
      "text/plain": [
       "array([[1.0000000e+00],\n",
       "       [1.0000000e+00],\n",
       "       [4.3060636e-06],\n",
       "       [1.1078893e-08],\n",
       "       [2.3133016e-09],\n",
       "       [9.9999273e-01],\n",
       "       [1.0000000e+00],\n",
       "       [9.9999952e-01],\n",
       "       [1.8508237e-08],\n",
       "       [2.3478620e-07],\n",
       "       [9.9151039e-01],\n",
       "       [1.0000000e+00],\n",
       "       [9.9999833e-01],\n",
       "       [1.5093276e-09],\n",
       "       [1.0000000e+00],\n",
       "       [1.0000000e+00]], dtype=float32)"
      ]
     },
     "execution_count": 102,
     "metadata": {},
     "output_type": "execute_result"
    }
   ],
   "source": [
    "# Make predictions with reloaded model\n",
    "reloaded_model.predict([test_input, test_val])"
   ]
  },
  {
   "cell_type": "code",
   "execution_count": 103,
   "id": "b9272c70",
   "metadata": {},
   "outputs": [
    {
     "name": "stdout",
     "output_type": "stream",
     "text": [
      "Model: \"SiameseNetwork\"\n",
      "__________________________________________________________________________________________________\n",
      " Layer (type)                   Output Shape         Param #     Connected to                     \n",
      "==================================================================================================\n",
      " input_image (InputLayer)       [(None, 100, 100, 3  0           []                               \n",
      "                                )]                                                                \n",
      "                                                                                                  \n",
      " va;idation_image (InputLayer)  [(None, 100, 100, 3  0           []                               \n",
      "                                )]                                                                \n",
      "                                                                                                  \n",
      " embedding (Functional)         (None, 4096)         38960448    ['input_image[0][0]',            \n",
      "                                                                  'va;idation_image[0][0]']       \n",
      "                                                                                                  \n",
      " l1_dist_2 (L1Dist)             (None, 4096)         0           ['embedding[0][0]',              \n",
      "                                                                  'embedding[1][0]']              \n",
      "                                                                                                  \n",
      " dense_3 (Dense)                (None, 1)            4097        ['l1_dist_2[0][0]']              \n",
      "                                                                                                  \n",
      "==================================================================================================\n",
      "Total params: 38,964,545\n",
      "Trainable params: 38,964,545\n",
      "Non-trainable params: 0\n",
      "__________________________________________________________________________________________________\n"
     ]
    }
   ],
   "source": [
    "# View model summary\n",
    "reloaded_model.summary()"
   ]
  },
  {
   "cell_type": "markdown",
   "id": "a31f6721",
   "metadata": {},
   "source": [
    "# 8. Real Time Test"
   ]
  },
  {
   "cell_type": "markdown",
   "id": "19d6856a",
   "metadata": {},
   "source": [
    "## 8.1. Verification Function"
   ]
  },
  {
   "cell_type": "code",
   "execution_count": 104,
   "id": "d3a3045a",
   "metadata": {},
   "outputs": [
    {
     "data": {
      "text/plain": [
       "['00c61f8f-1c6d-11ef-a387-845cf3d6a57d.jpg',\n",
       " '00f394d3-1c6d-11ef-805a-845cf3d6a57d.jpg',\n",
       " '01adc93b-1c6d-11ef-a292-845cf3d6a57d.jpg',\n",
       " '02bb927a-1c6d-11ef-82cc-845cf3d6a57d.jpg',\n",
       " '0a05bfe4-1c6d-11ef-a886-845cf3d6a57d.jpg',\n",
       " '0a2e306c-1c6d-11ef-9928-845cf3d6a57d.jpg',\n",
       " '0a88b77e-1c6d-11ef-9e2c-845cf3d6a57d.jpg',\n",
       " '0a995ecc-1c6d-11ef-b91a-845cf3d6a57d.jpg',\n",
       " '0aa07582-1c6d-11ef-80b2-845cf3d6a57d.jpg',\n",
       " '0abb135f-1c6d-11ef-9ee2-845cf3d6a57d.jpg',\n",
       " '0ae871cc-1c6d-11ef-ab33-845cf3d6a57d.jpg',\n",
       " '0b15f994-1c6d-11ef-a33a-845cf3d6a57d.jpg',\n",
       " '0b4d1628-1c6d-11ef-a899-845cf3d6a57d.jpg',\n",
       " '0c63ed44-1c6d-11ef-9886-845cf3d6a57d.jpg',\n",
       " '0c962c66-1c6d-11ef-bac0-845cf3d6a57d.jpg',\n",
       " '0ce6bf12-1c6d-11ef-8b4e-845cf3d6a57d.jpg',\n",
       " '0d37c04d-1c6d-11ef-880a-845cf3d6a57d.jpg',\n",
       " '0db3846f-1c6d-11ef-a266-845cf3d6a57d.jpg',\n",
       " '0dc3e114-1c6d-11ef-9d12-845cf3d6a57d.jpg',\n",
       " '0de78843-1c6d-11ef-bcff-845cf3d6a57d.jpg',\n",
       " '0e0fa16d-1c6d-11ef-b515-845cf3d6a57d.jpg',\n",
       " '0e382732-1c6d-11ef-acdf-845cf3d6a57d.jpg',\n",
       " '0e6cb53b-1c6d-11ef-850f-845cf3d6a57d.jpg',\n",
       " '0e73fe61-1c6d-11ef-b9d1-845cf3d6a57d.jpg',\n",
       " '0e97a18a-1c6d-11ef-8980-845cf3d6a57d.jpg',\n",
       " '0ec0148a-1c6d-11ef-a80a-845cf3d6a57d.jpg',\n",
       " '0ef787bb-1c6d-11ef-88e9-845cf3d6a57d.jpg',\n",
       " '0f2ecdc1-1c6d-11ef-bc2f-845cf3d6a57d.jpg',\n",
       " '0f6125d3-1c6d-11ef-9f30-845cf3d6a57d.jpg',\n",
       " '0f7da273-1c6d-11ef-96fb-845cf3d6a57d.jpg',\n",
       " '0f8e6d98-1c6d-11ef-832c-845cf3d6a57d.jpg',\n",
       " '0fc0b8f0-1c6d-11ef-ade6-845cf3d6a57d.jpg',\n",
       " '0fdaf9ac-1c6d-11ef-a75d-845cf3d6a57d.jpg',\n",
       " '0fe242fe-1c6d-11ef-a9a2-845cf3d6a57d.jpg',\n",
       " '0fee13ef-1c6d-11ef-8d6d-845cf3d6a57d.jpg',\n",
       " '1a0b53fd-1c6d-11ef-bb79-845cf3d6a57d.jpg',\n",
       " '1a38d132-1c6d-11ef-a251-845cf3d6a57d.jpg',\n",
       " '1b6800c0-1c6d-11ef-b391-845cf3d6a57d.jpg',\n",
       " '1b955437-1c6d-11ef-abf7-845cf3d6a57d.jpg',\n",
       " '1bbd8a88-1c6d-11ef-a2e6-845cf3d6a57d.jpg',\n",
       " '1bf4f5f1-1c6d-11ef-821a-845cf3d6a57d.jpg',\n",
       " '1c2c953e-1c6d-11ef-96db-845cf3d6a57d.jpg',\n",
       " '1c68cc75-1c6d-11ef-934a-845cf3d6a57d.jpg',\n",
       " '1c914792-1c6d-11ef-a66b-845cf3d6a57d.jpg',\n",
       " '1cbe4f43-1c6d-11ef-a4f0-845cf3d6a57d.jpg',\n",
       " '1ce6c929-1c6d-11ef-90cb-845cf3d6a57d.jpg',\n",
       " '1d13db29-1c6d-11ef-9589-845cf3d6a57d.jpg',\n",
       " '1d3752b4-1c6d-11ef-ade5-845cf3d6a57d.jpg',\n",
       " '1d697251-1c6d-11ef-925a-845cf3d6a57d.jpg',\n",
       " '1e807c7d-1c6d-11ef-b093-845cf3d6a57d.jpg']"
      ]
     },
     "execution_count": 104,
     "metadata": {},
     "output_type": "execute_result"
    }
   ],
   "source": [
    "os.listdir(os.path.join('application_data', 'verification_images'))"
   ]
  },
  {
   "cell_type": "code",
   "execution_count": 105,
   "id": "dd4159be",
   "metadata": {},
   "outputs": [
    {
     "name": "stdout",
     "output_type": "stream",
     "text": [
      "application_data\\verification_images\\00c61f8f-1c6d-11ef-a387-845cf3d6a57d.jpg\n",
      "application_data\\verification_images\\00f394d3-1c6d-11ef-805a-845cf3d6a57d.jpg\n",
      "application_data\\verification_images\\01adc93b-1c6d-11ef-a292-845cf3d6a57d.jpg\n",
      "application_data\\verification_images\\02bb927a-1c6d-11ef-82cc-845cf3d6a57d.jpg\n",
      "application_data\\verification_images\\0a05bfe4-1c6d-11ef-a886-845cf3d6a57d.jpg\n",
      "application_data\\verification_images\\0a2e306c-1c6d-11ef-9928-845cf3d6a57d.jpg\n",
      "application_data\\verification_images\\0a88b77e-1c6d-11ef-9e2c-845cf3d6a57d.jpg\n",
      "application_data\\verification_images\\0a995ecc-1c6d-11ef-b91a-845cf3d6a57d.jpg\n",
      "application_data\\verification_images\\0aa07582-1c6d-11ef-80b2-845cf3d6a57d.jpg\n",
      "application_data\\verification_images\\0abb135f-1c6d-11ef-9ee2-845cf3d6a57d.jpg\n",
      "application_data\\verification_images\\0ae871cc-1c6d-11ef-ab33-845cf3d6a57d.jpg\n",
      "application_data\\verification_images\\0b15f994-1c6d-11ef-a33a-845cf3d6a57d.jpg\n",
      "application_data\\verification_images\\0b4d1628-1c6d-11ef-a899-845cf3d6a57d.jpg\n",
      "application_data\\verification_images\\0c63ed44-1c6d-11ef-9886-845cf3d6a57d.jpg\n",
      "application_data\\verification_images\\0c962c66-1c6d-11ef-bac0-845cf3d6a57d.jpg\n",
      "application_data\\verification_images\\0ce6bf12-1c6d-11ef-8b4e-845cf3d6a57d.jpg\n",
      "application_data\\verification_images\\0d37c04d-1c6d-11ef-880a-845cf3d6a57d.jpg\n",
      "application_data\\verification_images\\0db3846f-1c6d-11ef-a266-845cf3d6a57d.jpg\n",
      "application_data\\verification_images\\0dc3e114-1c6d-11ef-9d12-845cf3d6a57d.jpg\n",
      "application_data\\verification_images\\0de78843-1c6d-11ef-bcff-845cf3d6a57d.jpg\n",
      "application_data\\verification_images\\0e0fa16d-1c6d-11ef-b515-845cf3d6a57d.jpg\n",
      "application_data\\verification_images\\0e382732-1c6d-11ef-acdf-845cf3d6a57d.jpg\n",
      "application_data\\verification_images\\0e6cb53b-1c6d-11ef-850f-845cf3d6a57d.jpg\n",
      "application_data\\verification_images\\0e73fe61-1c6d-11ef-b9d1-845cf3d6a57d.jpg\n",
      "application_data\\verification_images\\0e97a18a-1c6d-11ef-8980-845cf3d6a57d.jpg\n",
      "application_data\\verification_images\\0ec0148a-1c6d-11ef-a80a-845cf3d6a57d.jpg\n",
      "application_data\\verification_images\\0ef787bb-1c6d-11ef-88e9-845cf3d6a57d.jpg\n",
      "application_data\\verification_images\\0f2ecdc1-1c6d-11ef-bc2f-845cf3d6a57d.jpg\n",
      "application_data\\verification_images\\0f6125d3-1c6d-11ef-9f30-845cf3d6a57d.jpg\n",
      "application_data\\verification_images\\0f7da273-1c6d-11ef-96fb-845cf3d6a57d.jpg\n",
      "application_data\\verification_images\\0f8e6d98-1c6d-11ef-832c-845cf3d6a57d.jpg\n",
      "application_data\\verification_images\\0fc0b8f0-1c6d-11ef-ade6-845cf3d6a57d.jpg\n",
      "application_data\\verification_images\\0fdaf9ac-1c6d-11ef-a75d-845cf3d6a57d.jpg\n",
      "application_data\\verification_images\\0fe242fe-1c6d-11ef-a9a2-845cf3d6a57d.jpg\n",
      "application_data\\verification_images\\0fee13ef-1c6d-11ef-8d6d-845cf3d6a57d.jpg\n",
      "application_data\\verification_images\\1a0b53fd-1c6d-11ef-bb79-845cf3d6a57d.jpg\n",
      "application_data\\verification_images\\1a38d132-1c6d-11ef-a251-845cf3d6a57d.jpg\n",
      "application_data\\verification_images\\1b6800c0-1c6d-11ef-b391-845cf3d6a57d.jpg\n",
      "application_data\\verification_images\\1b955437-1c6d-11ef-abf7-845cf3d6a57d.jpg\n",
      "application_data\\verification_images\\1bbd8a88-1c6d-11ef-a2e6-845cf3d6a57d.jpg\n",
      "application_data\\verification_images\\1bf4f5f1-1c6d-11ef-821a-845cf3d6a57d.jpg\n",
      "application_data\\verification_images\\1c2c953e-1c6d-11ef-96db-845cf3d6a57d.jpg\n",
      "application_data\\verification_images\\1c68cc75-1c6d-11ef-934a-845cf3d6a57d.jpg\n",
      "application_data\\verification_images\\1c914792-1c6d-11ef-a66b-845cf3d6a57d.jpg\n",
      "application_data\\verification_images\\1cbe4f43-1c6d-11ef-a4f0-845cf3d6a57d.jpg\n",
      "application_data\\verification_images\\1ce6c929-1c6d-11ef-90cb-845cf3d6a57d.jpg\n",
      "application_data\\verification_images\\1d13db29-1c6d-11ef-9589-845cf3d6a57d.jpg\n",
      "application_data\\verification_images\\1d3752b4-1c6d-11ef-ade5-845cf3d6a57d.jpg\n",
      "application_data\\verification_images\\1d697251-1c6d-11ef-925a-845cf3d6a57d.jpg\n",
      "application_data\\verification_images\\1e807c7d-1c6d-11ef-b093-845cf3d6a57d.jpg\n"
     ]
    }
   ],
   "source": [
    "for image in os.listdir(os.path.join('application_data', 'verification_images')):\n",
    "        validation_image = (os.path.join('application_data', 'verification_images', image))\n",
    "        print(validation_image)"
   ]
  },
  {
   "cell_type": "code",
   "execution_count": 106,
   "id": "900377e4",
   "metadata": {},
   "outputs": [],
   "source": [
    "def verify(model, detection_threshold, verification_threshold):\n",
    "    # Build results array\n",
    "    results = []\n",
    "    for image in os.listdir(os.path.join('application_data', 'verification_images')):\n",
    "        input_img = preprocess(os.path.join('application_data', 'input_image', 'input_image.jpg'))\n",
    "        validation_img = preprocess(os.path.join('application_data', 'verification_images', image))\n",
    "        \n",
    "        # Make Predictions\n",
    "        result = model.predict(list(np.expand_dims([input_img, validation_img], axis=1)))\n",
    "        results.append(result)\n",
    "    \n",
    "    # Detection Threshold: Metric above which a prediction is considered positive\n",
    "    detection = np.sum(np.array(results) > detection_threshold)\n",
    "    \n",
    "    # Verification Threshold: Proportion of positive predictions / total positive samples\n",
    "    verification = detection / len(os.listdir(os.path.join('application_data', 'verification_images')))\n",
    "    verified = verification > verification_threshold\n",
    "    \n",
    "    return results, verified"
   ]
  },
  {
   "cell_type": "markdown",
   "id": "f81a964f",
   "metadata": {},
   "source": [
    "## 8.2. OpenCV Real Time Verification"
   ]
  },
  {
   "cell_type": "code",
   "execution_count": 108,
   "id": "baff1921",
   "metadata": {},
   "outputs": [
    {
     "name": "stdout",
     "output_type": "stream",
     "text": [
      "1/1 [==============================] - 0s 435ms/step\n",
      "1/1 [==============================] - 0s 14ms/step\n",
      "1/1 [==============================] - 0s 16ms/step\n",
      "1/1 [==============================] - 0s 15ms/step\n",
      "1/1 [==============================] - 0s 14ms/step\n",
      "1/1 [==============================] - 0s 14ms/step\n",
      "1/1 [==============================] - 0s 14ms/step\n",
      "1/1 [==============================] - 0s 14ms/step\n",
      "1/1 [==============================] - 0s 14ms/step\n",
      "1/1 [==============================] - 0s 16ms/step\n",
      "1/1 [==============================] - 0s 16ms/step\n",
      "1/1 [==============================] - 0s 15ms/step\n",
      "1/1 [==============================] - 0s 14ms/step\n",
      "1/1 [==============================] - 0s 14ms/step\n",
      "1/1 [==============================] - 0s 15ms/step\n",
      "1/1 [==============================] - 0s 15ms/step\n",
      "1/1 [==============================] - 0s 14ms/step\n",
      "1/1 [==============================] - 0s 15ms/step\n",
      "1/1 [==============================] - 0s 14ms/step\n",
      "1/1 [==============================] - 0s 14ms/step\n",
      "1/1 [==============================] - 0s 15ms/step\n",
      "1/1 [==============================] - 0s 16ms/step\n",
      "1/1 [==============================] - 0s 18ms/step\n",
      "1/1 [==============================] - 0s 15ms/step\n",
      "1/1 [==============================] - 0s 18ms/step\n",
      "1/1 [==============================] - 0s 18ms/step\n",
      "1/1 [==============================] - 0s 16ms/step\n",
      "1/1 [==============================] - 0s 16ms/step\n",
      "1/1 [==============================] - 0s 16ms/step\n",
      "1/1 [==============================] - 0s 15ms/step\n",
      "1/1 [==============================] - 0s 15ms/step\n",
      "1/1 [==============================] - 0s 15ms/step\n",
      "1/1 [==============================] - 0s 16ms/step\n",
      "1/1 [==============================] - 0s 15ms/step\n",
      "1/1 [==============================] - 0s 15ms/step\n",
      "1/1 [==============================] - 0s 14ms/step\n",
      "1/1 [==============================] - 0s 16ms/step\n",
      "1/1 [==============================] - 0s 16ms/step\n",
      "1/1 [==============================] - 0s 14ms/step\n",
      "1/1 [==============================] - 0s 15ms/step\n",
      "1/1 [==============================] - 0s 15ms/step\n",
      "1/1 [==============================] - 0s 14ms/step\n",
      "1/1 [==============================] - 0s 15ms/step\n",
      "1/1 [==============================] - 0s 15ms/step\n",
      "1/1 [==============================] - 0s 15ms/step\n",
      "1/1 [==============================] - 0s 14ms/step\n",
      "1/1 [==============================] - 0s 15ms/step\n",
      "1/1 [==============================] - 0s 15ms/step\n",
      "1/1 [==============================] - 0s 15ms/step\n",
      "1/1 [==============================] - 0s 15ms/step\n",
      "False\n",
      "1/1 [==============================] - 0s 15ms/step\n",
      "1/1 [==============================] - 0s 15ms/step\n",
      "1/1 [==============================] - 0s 14ms/step\n",
      "1/1 [==============================] - 0s 15ms/step\n",
      "1/1 [==============================] - 0s 14ms/step\n",
      "1/1 [==============================] - 0s 15ms/step\n",
      "1/1 [==============================] - 0s 14ms/step\n",
      "1/1 [==============================] - 0s 14ms/step\n",
      "1/1 [==============================] - 0s 14ms/step\n",
      "1/1 [==============================] - 0s 15ms/step\n",
      "1/1 [==============================] - 0s 15ms/step\n",
      "1/1 [==============================] - 0s 14ms/step\n",
      "1/1 [==============================] - 0s 14ms/step\n",
      "1/1 [==============================] - 0s 16ms/step\n",
      "1/1 [==============================] - 0s 15ms/step\n",
      "1/1 [==============================] - 0s 15ms/step\n",
      "1/1 [==============================] - 0s 15ms/step\n",
      "1/1 [==============================] - 0s 15ms/step\n",
      "1/1 [==============================] - 0s 14ms/step\n",
      "1/1 [==============================] - 0s 14ms/step\n",
      "1/1 [==============================] - 0s 15ms/step\n",
      "1/1 [==============================] - 0s 14ms/step\n",
      "1/1 [==============================] - 0s 14ms/step\n",
      "1/1 [==============================] - 0s 14ms/step\n",
      "1/1 [==============================] - 0s 15ms/step\n",
      "1/1 [==============================] - 0s 14ms/step\n",
      "1/1 [==============================] - 0s 16ms/step\n",
      "1/1 [==============================] - 0s 14ms/step\n",
      "1/1 [==============================] - 0s 14ms/step\n",
      "1/1 [==============================] - 0s 14ms/step\n",
      "1/1 [==============================] - 0s 15ms/step\n",
      "1/1 [==============================] - 0s 15ms/step\n",
      "1/1 [==============================] - 0s 15ms/step\n",
      "1/1 [==============================] - 0s 15ms/step\n",
      "1/1 [==============================] - 0s 16ms/step\n",
      "1/1 [==============================] - 0s 16ms/step\n",
      "1/1 [==============================] - 0s 17ms/step\n",
      "1/1 [==============================] - 0s 16ms/step\n",
      "1/1 [==============================] - 0s 15ms/step\n",
      "1/1 [==============================] - 0s 15ms/step\n",
      "1/1 [==============================] - 0s 15ms/step\n",
      "1/1 [==============================] - 0s 14ms/step\n",
      "1/1 [==============================] - 0s 15ms/step\n",
      "1/1 [==============================] - 0s 14ms/step\n",
      "1/1 [==============================] - 0s 15ms/step\n",
      "1/1 [==============================] - 0s 15ms/step\n",
      "1/1 [==============================] - 0s 15ms/step\n",
      "1/1 [==============================] - 0s 15ms/step\n",
      "1/1 [==============================] - 0s 16ms/step\n",
      "1/1 [==============================] - 0s 15ms/step\n",
      "False\n"
     ]
    }
   ],
   "source": [
    "cap = cv2.VideoCapture(0)\n",
    "\n",
    "while cap.isOpened():\n",
    "    ret, frame = cap.read()\n",
    "    frame = frame[120:120+250, 200:200+250, :]\n",
    "    \n",
    "    cv2.imshow('Verification', frame)\n",
    "    \n",
    "    # Verification trigger\n",
    "    if cv2.waitKey(10) & 0xFF == ord('v'):\n",
    "        # Save input image to application_data/input_image folder\n",
    "        cv2.imwrite(os.path.join('application_data', 'input_image', 'input_image.jpg'), frame)\n",
    "        # Run verification\n",
    "        results, verified = verify(reloaded_model, 0.9, 0.7)\n",
    "        print(verified)\n",
    "    \n",
    "    if cv2.waitKey(10) & 0xFF == ord('q'):\n",
    "        break\n",
    "        \n",
    "cap.release()\n",
    "cv2.destroyAllWindows()"
   ]
  },
  {
   "cell_type": "code",
   "execution_count": null,
   "id": "b4e243bd",
   "metadata": {},
   "outputs": [],
   "source": []
  },
  {
   "cell_type": "code",
   "execution_count": null,
   "id": "3c8f8653",
   "metadata": {},
   "outputs": [],
   "source": []
  },
  {
   "cell_type": "code",
   "execution_count": null,
   "id": "fb89fadc",
   "metadata": {},
   "outputs": [],
   "source": []
  },
  {
   "cell_type": "code",
   "execution_count": null,
   "id": "7068695c",
   "metadata": {},
   "outputs": [],
   "source": []
  },
  {
   "cell_type": "code",
   "execution_count": null,
   "id": "1be57332",
   "metadata": {},
   "outputs": [],
   "source": []
  },
  {
   "cell_type": "code",
   "execution_count": null,
   "id": "d52f8d4f",
   "metadata": {},
   "outputs": [],
   "source": []
  },
  {
   "cell_type": "code",
   "execution_count": null,
   "id": "45ad0c74",
   "metadata": {},
   "outputs": [],
   "source": []
  },
  {
   "cell_type": "code",
   "execution_count": null,
   "id": "cd9d796d",
   "metadata": {},
   "outputs": [],
   "source": []
  },
  {
   "cell_type": "code",
   "execution_count": null,
   "id": "362c1d10",
   "metadata": {},
   "outputs": [],
   "source": []
  },
  {
   "cell_type": "code",
   "execution_count": null,
   "id": "0b8273a8",
   "metadata": {},
   "outputs": [],
   "source": []
  },
  {
   "cell_type": "code",
   "execution_count": null,
   "id": "d6145fee",
   "metadata": {},
   "outputs": [],
   "source": []
  },
  {
   "cell_type": "code",
   "execution_count": null,
   "id": "6af34714",
   "metadata": {},
   "outputs": [],
   "source": []
  },
  {
   "cell_type": "code",
   "execution_count": null,
   "id": "359a187e",
   "metadata": {},
   "outputs": [],
   "source": []
  },
  {
   "cell_type": "code",
   "execution_count": null,
   "id": "002d180a",
   "metadata": {},
   "outputs": [],
   "source": []
  },
  {
   "cell_type": "code",
   "execution_count": null,
   "id": "2efa473f",
   "metadata": {},
   "outputs": [],
   "source": []
  }
 ],
 "metadata": {
  "kernelspec": {
   "display_name": "ComputerVision",
   "language": "python",
   "name": "computervision"
  },
  "language_info": {
   "codemirror_mode": {
    "name": "ipython",
    "version": 3
   },
   "file_extension": ".py",
   "mimetype": "text/x-python",
   "name": "python",
   "nbconvert_exporter": "python",
   "pygments_lexer": "ipython3",
   "version": "3.9.19"
  }
 },
 "nbformat": 4,
 "nbformat_minor": 5
}
